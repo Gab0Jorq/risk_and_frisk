{
 "cells": [
  {
   "cell_type": "code",
   "execution_count": 128,
   "metadata": {},
   "outputs": [],
   "source": [
    "import os\n",
    "import sys\n",
    "\n",
    "import pandas as pd\n",
    "import numpy as np\n",
    "import seaborn as sns\n",
    "import matplotlib.pyplot as plt\n",
    "\n",
    "#Oversampling\n",
    "from imblearn.over_sampling import SMOTE\n",
    "\n",
    "#Modelos\n",
    "from sklearn.linear_model import LogisticRegression\n",
    "from sklearn.naive_bayes import MultinomialNB\n",
    "from sklearn.ensemble import GradientBoostingClassifier, RandomForestClassifier\n",
    "from sklearn.svm import SVC\n",
    "from sklearn.tree import DecisionTreeClassifier\n",
    "\n",
    "# Grilla de búsqueda de mejores hiperparámetros\n",
    "from sklearn.model_selection import GridSearchCV\n",
    "\n",
    "# Métricas\n",
    "from sklearn.metrics import confusion_matrix, classification_report, plot_confusion_matrix\n",
    "\n",
    "# Serialización de archivos\n",
    "import pickle"
   ]
  },
  {
   "cell_type": "code",
   "execution_count": 129,
   "metadata": {},
   "outputs": [],
   "source": [
    "auxiliares_path = os.path.abspath(os.path.join('..'))\n",
    "if auxiliares_path not in sys.path:\n",
    "    sys.path.append(auxiliares_path+'\\\\auxiliares')\n",
    "\n",
    "#Importando funciones auxiliares    \n",
    "import auxiliares.helpers as hp\n",
    "import auxiliares.preproc_nyc_sqf as preproc"
   ]
  },
  {
   "cell_type": "markdown",
   "metadata": {},
   "source": [
    "# 1. Ingesta de data y análisis de esta"
   ]
  },
  {
   "cell_type": "code",
   "execution_count": 130,
   "metadata": {},
   "outputs": [],
   "source": [
    "df_2009 = pd.read_csv('datasets/2009_1perc.csv').drop('Unnamed: 0', axis=1)\n",
    "df_2010 = pd.read_csv('datasets/2010_1perc.csv').drop('Unnamed: 0', axis=1)"
   ]
  },
  {
   "cell_type": "code",
   "execution_count": 131,
   "metadata": {},
   "outputs": [
    {
     "data": {
      "text/html": [
       "<div>\n",
       "<style scoped>\n",
       "    .dataframe tbody tr th:only-of-type {\n",
       "        vertical-align: middle;\n",
       "    }\n",
       "\n",
       "    .dataframe tbody tr th {\n",
       "        vertical-align: top;\n",
       "    }\n",
       "\n",
       "    .dataframe thead th {\n",
       "        text-align: right;\n",
       "    }\n",
       "</style>\n",
       "<table border=\"1\" class=\"dataframe\">\n",
       "  <thead>\n",
       "    <tr style=\"text-align: right;\">\n",
       "      <th></th>\n",
       "      <th>year</th>\n",
       "      <th>pct</th>\n",
       "      <th>ser_num</th>\n",
       "      <th>datestop</th>\n",
       "      <th>timestop</th>\n",
       "      <th>recstat</th>\n",
       "      <th>inout</th>\n",
       "      <th>trhsloc</th>\n",
       "      <th>perobs</th>\n",
       "      <th>crimsusp</th>\n",
       "      <th>...</th>\n",
       "      <th>zip</th>\n",
       "      <th>addrpct</th>\n",
       "      <th>sector</th>\n",
       "      <th>beat</th>\n",
       "      <th>post</th>\n",
       "      <th>xcoord</th>\n",
       "      <th>ycoord</th>\n",
       "      <th>dettypcm</th>\n",
       "      <th>linecm</th>\n",
       "      <th>detailcm</th>\n",
       "    </tr>\n",
       "  </thead>\n",
       "  <tbody>\n",
       "    <tr>\n",
       "      <th>0</th>\n",
       "      <td>2009</td>\n",
       "      <td>41</td>\n",
       "      <td>1779</td>\n",
       "      <td>4032009</td>\n",
       "      <td>130</td>\n",
       "      <td>A</td>\n",
       "      <td>O</td>\n",
       "      <td>P</td>\n",
       "      <td>1.0</td>\n",
       "      <td>CPW</td>\n",
       "      <td>...</td>\n",
       "      <td></td>\n",
       "      <td>41</td>\n",
       "      <td>G</td>\n",
       "      <td>7</td>\n",
       "      <td></td>\n",
       "      <td>1013067</td>\n",
       "      <td>0238633</td>\n",
       "      <td>CM</td>\n",
       "      <td>1</td>\n",
       "      <td>20</td>\n",
       "    </tr>\n",
       "    <tr>\n",
       "      <th>1</th>\n",
       "      <td>2009</td>\n",
       "      <td>108</td>\n",
       "      <td>5805</td>\n",
       "      <td>10292009</td>\n",
       "      <td>1050</td>\n",
       "      <td>A</td>\n",
       "      <td>O</td>\n",
       "      <td>P</td>\n",
       "      <td>3.0</td>\n",
       "      <td>BURG</td>\n",
       "      <td>...</td>\n",
       "      <td></td>\n",
       "      <td>108</td>\n",
       "      <td>J</td>\n",
       "      <td></td>\n",
       "      <td></td>\n",
       "      <td>1012043</td>\n",
       "      <td>0212157</td>\n",
       "      <td>CM</td>\n",
       "      <td>1</td>\n",
       "      <td>14</td>\n",
       "    </tr>\n",
       "    <tr>\n",
       "      <th>2</th>\n",
       "      <td>2009</td>\n",
       "      <td>43</td>\n",
       "      <td>8340</td>\n",
       "      <td>10062009</td>\n",
       "      <td>1450</td>\n",
       "      <td>1</td>\n",
       "      <td>O</td>\n",
       "      <td>P</td>\n",
       "      <td>1.0</td>\n",
       "      <td>MISD</td>\n",
       "      <td>...</td>\n",
       "      <td></td>\n",
       "      <td>43</td>\n",
       "      <td>E</td>\n",
       "      <td></td>\n",
       "      <td></td>\n",
       "      <td>1017599</td>\n",
       "      <td>0240200</td>\n",
       "      <td>CM</td>\n",
       "      <td>1</td>\n",
       "      <td>20</td>\n",
       "    </tr>\n",
       "  </tbody>\n",
       "</table>\n",
       "<p>3 rows × 111 columns</p>\n",
       "</div>"
      ],
      "text/plain": [
       "   year  pct  ser_num  datestop  timestop recstat inout trhsloc  perobs  \\\n",
       "0  2009   41     1779   4032009       130       A     O       P     1.0   \n",
       "1  2009  108     5805  10292009      1050       A     O       P     3.0   \n",
       "2  2009   43     8340  10062009      1450       1     O       P     1.0   \n",
       "\n",
       "  crimsusp  ...  zip addrpct sector beat post   xcoord   ycoord dettypcm  \\\n",
       "0      CPW  ...           41      G    7       1013067  0238633       CM   \n",
       "1     BURG  ...          108      J            1012043  0212157       CM   \n",
       "2     MISD  ...           43      E            1017599  0240200       CM   \n",
       "\n",
       "   linecm  detailcm  \n",
       "0       1        20  \n",
       "1       1        14  \n",
       "2       1        20  \n",
       "\n",
       "[3 rows x 111 columns]"
      ]
     },
     "execution_count": 131,
     "metadata": {},
     "output_type": "execute_result"
    }
   ],
   "source": [
    "df_2009.head(3)"
   ]
  },
  {
   "cell_type": "code",
   "execution_count": 132,
   "metadata": {},
   "outputs": [
    {
     "data": {
      "text/html": [
       "<div>\n",
       "<style scoped>\n",
       "    .dataframe tbody tr th:only-of-type {\n",
       "        vertical-align: middle;\n",
       "    }\n",
       "\n",
       "    .dataframe tbody tr th {\n",
       "        vertical-align: top;\n",
       "    }\n",
       "\n",
       "    .dataframe thead th {\n",
       "        text-align: right;\n",
       "    }\n",
       "</style>\n",
       "<table border=\"1\" class=\"dataframe\">\n",
       "  <thead>\n",
       "    <tr style=\"text-align: right;\">\n",
       "      <th></th>\n",
       "      <th>year</th>\n",
       "      <th>pct</th>\n",
       "      <th>ser_num</th>\n",
       "      <th>datestop</th>\n",
       "      <th>timestop</th>\n",
       "      <th>recstat</th>\n",
       "      <th>inout</th>\n",
       "      <th>trhsloc</th>\n",
       "      <th>perobs</th>\n",
       "      <th>crimsusp</th>\n",
       "      <th>...</th>\n",
       "      <th>zip</th>\n",
       "      <th>addrpct</th>\n",
       "      <th>sector</th>\n",
       "      <th>beat</th>\n",
       "      <th>post</th>\n",
       "      <th>xcoord</th>\n",
       "      <th>ycoord</th>\n",
       "      <th>dettypcm</th>\n",
       "      <th>linecm</th>\n",
       "      <th>detailcm</th>\n",
       "    </tr>\n",
       "  </thead>\n",
       "  <tbody>\n",
       "    <tr>\n",
       "      <th>0</th>\n",
       "      <td>2010</td>\n",
       "      <td>6</td>\n",
       "      <td>487</td>\n",
       "      <td>1192010</td>\n",
       "      <td>1420</td>\n",
       "      <td>1</td>\n",
       "      <td>O</td>\n",
       "      <td>P</td>\n",
       "      <td>2</td>\n",
       "      <td>FEL</td>\n",
       "      <td>...</td>\n",
       "      <td></td>\n",
       "      <td>6</td>\n",
       "      <td>G</td>\n",
       "      <td></td>\n",
       "      <td>38</td>\n",
       "      <td>983543</td>\n",
       "      <td>208767</td>\n",
       "      <td>CM</td>\n",
       "      <td>1</td>\n",
       "      <td>85</td>\n",
       "    </tr>\n",
       "    <tr>\n",
       "      <th>1</th>\n",
       "      <td>2010</td>\n",
       "      <td>42</td>\n",
       "      <td>7138</td>\n",
       "      <td>9042010</td>\n",
       "      <td>225</td>\n",
       "      <td>1</td>\n",
       "      <td>I</td>\n",
       "      <td>T</td>\n",
       "      <td>10</td>\n",
       "      <td>FELONY</td>\n",
       "      <td>...</td>\n",
       "      <td></td>\n",
       "      <td>42</td>\n",
       "      <td>E</td>\n",
       "      <td></td>\n",
       "      <td></td>\n",
       "      <td>1014172</td>\n",
       "      <td>241737</td>\n",
       "      <td>CM</td>\n",
       "      <td>1</td>\n",
       "      <td>45</td>\n",
       "    </tr>\n",
       "    <tr>\n",
       "      <th>2</th>\n",
       "      <td>2010</td>\n",
       "      <td>33</td>\n",
       "      <td>2628</td>\n",
       "      <td>6302010</td>\n",
       "      <td>1240</td>\n",
       "      <td>1</td>\n",
       "      <td>I</td>\n",
       "      <td>T</td>\n",
       "      <td>5</td>\n",
       "      <td>ROBBERY</td>\n",
       "      <td>...</td>\n",
       "      <td></td>\n",
       "      <td>33</td>\n",
       "      <td>B</td>\n",
       "      <td>6</td>\n",
       "      <td></td>\n",
       "      <td>1000916</td>\n",
       "      <td>245710</td>\n",
       "      <td>CM</td>\n",
       "      <td>1</td>\n",
       "      <td>85</td>\n",
       "    </tr>\n",
       "  </tbody>\n",
       "</table>\n",
       "<p>3 rows × 111 columns</p>\n",
       "</div>"
      ],
      "text/plain": [
       "   year  pct  ser_num  datestop  timestop recstat inout trhsloc  perobs  \\\n",
       "0  2010    6      487   1192010      1420       1     O       P       2   \n",
       "1  2010   42     7138   9042010       225       1     I       T      10   \n",
       "2  2010   33     2628   6302010      1240       1     I       T       5   \n",
       "\n",
       "  crimsusp  ...  zip addrpct sector beat post   xcoord  ycoord dettypcm  \\\n",
       "0      FEL  ...            6      G        38   983543  208767       CM   \n",
       "1   FELONY  ...           42      E            1014172  241737       CM   \n",
       "2  ROBBERY  ...           33      B    6       1000916  245710       CM   \n",
       "\n",
       "   linecm  detailcm  \n",
       "0       1        85  \n",
       "1       1        45  \n",
       "2       1        85  \n",
       "\n",
       "[3 rows x 111 columns]"
      ]
     },
     "execution_count": 132,
     "metadata": {},
     "output_type": "execute_result"
    }
   ],
   "source": [
    "df_2010.head(3)"
   ]
  },
  {
   "cell_type": "code",
   "execution_count": 133,
   "metadata": {},
   "outputs": [
    {
     "name": "stdout",
     "output_type": "stream",
     "text": [
      "datos 2009: 111 columnas y 5812 datos\n",
      "datos 2010: 111 columnas y 6013 datos\n"
     ]
    }
   ],
   "source": [
    "print(f'datos 2009: {df_2009.shape[1]} columnas y {df_2009.shape[0]} datos')\n",
    "print(f'datos 2010: {df_2010.shape[1]} columnas y {df_2010.shape[0]} datos')\n"
   ]
  },
  {
   "cell_type": "markdown",
   "metadata": {},
   "source": [
    "Los datos de ambos DataFrames tienen 111 columnas, que lo más probable que no todas sean de utilidad, además algunas columnas como 'beat' o 'post' tienen registros con datos faltantes, en formato de espacios. Veremos más a profundidad estos datos faltantes."
   ]
  },
  {
   "cell_type": "code",
   "execution_count": 134,
   "metadata": {},
   "outputs": [],
   "source": [
    "df_2009_nan = df_2009.replace(' ', np.nan)\n",
    "df_2010_nan = df_2010.replace(' ', np.nan)"
   ]
  },
  {
   "cell_type": "code",
   "execution_count": 135,
   "metadata": {},
   "outputs": [
    {
     "data": {
      "text/plain": [
       "aptnum      5812\n",
       "othfeatr    5812\n",
       "rescode     5812\n",
       "premtype    5812\n",
       "zip         5812\n",
       "state       5812\n",
       "officrid    5727\n",
       "arstoffn    5464\n",
       "sumoffen    5456\n",
       "post        5268\n",
       "offverb     4559\n",
       "offshld     4205\n",
       "beat        3622\n",
       "addrnum     3300\n",
       "stname      3225\n",
       "premname     591\n",
       "trhsloc      205\n",
       "xcoord       168\n",
       "ycoord       168\n",
       "sector       116\n",
       "stinter       40\n",
       "crossst       40\n",
       "cs_other       0\n",
       "dtype: int64"
      ]
     },
     "execution_count": 135,
     "metadata": {},
     "output_type": "execute_result"
    }
   ],
   "source": [
    "df_2009_nan.isna().sum().sort_values(ascending=False)[:23]"
   ]
  },
  {
   "cell_type": "markdown",
   "metadata": {},
   "source": [
    "Como podemos ver en la lista de arriba, se aprecia que hay 22 columnas con valores perdidos, pero lo interesante es en cuanto a la cantidad de datos perdidos, se puede apreciar que desde \"aptnum\" a \"stname\" pasan de 5.812 a 3.225 datos perdidos respectivamente, despues baja drásticamente a 591 con \"premname\" y siguen siendo menos los datos perdidos.\n",
    "\n",
    "Lo interesante es que estos datos perdidos hay que tratarlos, pero contamos con una función auxiliar que hace este trabajo, de imputar valores en algunas columnas, según algunos criterios ahí definidos, además de reglas como por ejemplo que la edad de la persona esté entre 18 y 100 años, de modo que si viola esta regla, le asigna valos np.nan, eliminando estos registros posteriormente (No deberían poder controlar gente menor de edad y si tiene más de 100 años es muy probable que sea un error de tipeo)."
   ]
  },
  {
   "cell_type": "code",
   "execution_count": 136,
   "metadata": {},
   "outputs": [],
   "source": [
    "df_consolidado = pd.concat([df_2009.set_index(df_2009['year']), \n",
    "                            df_2010.set_index(df_2010['year'])])"
   ]
  },
  {
   "cell_type": "code",
   "execution_count": 137,
   "metadata": {},
   "outputs": [
    {
     "name": "stdout",
     "output_type": "stream",
     "text": [
      "['perobs']\n"
     ]
    }
   ],
   "source": [
    "df_procesado, a, b = preproc.create_suitable_dataframe(df_consolidado)"
   ]
  },
  {
   "cell_type": "code",
   "execution_count": 138,
   "metadata": {},
   "outputs": [],
   "source": [
    "#Guardamos el archivo ya procesado en un CSV.\n",
    "df_procesado.to_csv('stop_and_frisk.csv')"
   ]
  },
  {
   "cell_type": "markdown",
   "metadata": {},
   "source": [
    "# 2. Análisis Exploratorio"
   ]
  },
  {
   "cell_type": "markdown",
   "metadata": {},
   "source": [
    "## 2.1. Comportamiento de Vector objetivo 'arstmade'."
   ]
  },
  {
   "cell_type": "code",
   "execution_count": 139,
   "metadata": {},
   "outputs": [
    {
     "data": {
      "text/plain": [
       "N    93.712032\n",
       "Y     6.287968\n",
       "Name: arstmade, dtype: float64"
      ]
     },
     "execution_count": 139,
     "metadata": {},
     "output_type": "execute_result"
    }
   ],
   "source": [
    "df_procesado['arstmade'].value_counts('%')*100"
   ]
  },
  {
   "cell_type": "code",
   "execution_count": 140,
   "metadata": {},
   "outputs": [
    {
     "data": {
      "image/png": "[encoded data removed]",
      "text/plain": [
       "<Figure size 432x288 with 1 Axes>"
      ]
     },
     "metadata": {},
     "output_type": "display_data"
    }
   ],
   "source": [
    "fig, ax = plt.subplots()\n",
    "labels = ['No Arrestado', 'Arrestado']\n",
    "sizes = [df_procesado['arstmade'].value_counts('%')[0]*100, df_procesado['arstmade'].value_counts('%')[1]*100]\n",
    "ax.pie(sizes, labels = labels, autopct='%1.1f%%');\n",
    "plt.show()"
   ]
  },
  {
   "cell_type": "markdown",
   "metadata": {},
   "source": [
    "De todas las personas controladas aproximadamente un 6.3% fueron arrestadas\n",
    "\n",
    "***¿De qué ciudad provienenestos registros?***"
   ]
  },
  {
   "cell_type": "code",
   "execution_count": 141,
   "metadata": {},
   "outputs": [
    {
     "data": {
      "text/plain": [
       "Text(0.5, 0.98, 'Arresto según controles por ciudad')"
      ]
     },
     "execution_count": 141,
     "metadata": {},
     "output_type": "execute_result"
    },
    {
     "data": {
      "image/png": "[encoded data removed]",
      "text/plain": [
       "<Figure size 473.5x360 with 1 Axes>"
      ]
     },
     "metadata": {
      "needs_background": "light"
     },
     "output_type": "display_data"
    }
   ],
   "source": [
    "g = sns.catplot(data = df_procesado, x = 'arstmade', hue = 'city', kind = 'count', palette = 'pastel')\n",
    "g.fig.suptitle('Arresto según controles por ciudad')"
   ]
  },
  {
   "cell_type": "code",
   "execution_count": 142,
   "metadata": {},
   "outputs": [
    {
     "data": {
      "text/plain": [
       "city           arstmade\n",
       "BRONX          N           1480\n",
       "               Y            100\n",
       "BROOKLYN       N           2979\n",
       "               Y            132\n",
       "MANHATTAN      N           1844\n",
       "               Y            197\n",
       "QUEENS         N           2038\n",
       "               Y            142\n",
       "STATEN IS      N            217\n",
       "               Y              9\n",
       "STATEN ISLAND  N            235\n",
       "               Y             10\n",
       "Name: arstmade, dtype: int64"
      ]
     },
     "execution_count": 142,
     "metadata": {},
     "output_type": "execute_result"
    }
   ],
   "source": [
    "df_procesado.groupby('city')['arstmade'].value_counts()"
   ]
  },
  {
   "cell_type": "markdown",
   "metadata": {},
   "source": [
    "De los controles realizados por ciudad, se puede obtener la siguiente información:\n",
    "* La mayor cantidad de controles se realizaron en ***Brooklyn y Queens*** y la ciudad que menos controles tuvo, fue ***Staten Island***.\n",
    "* Hay un country llamado ***STATEN IS***, que es lo mismo que *STATEN ISLAND*, por lo cual hay que corregirlo."
   ]
  },
  {
   "cell_type": "markdown",
   "metadata": {},
   "source": [
    "***¿Qué podemos decir en cuanto a la raza y el sexo de las personas que fueron controladas?***"
   ]
  },
  {
   "cell_type": "code",
   "execution_count": 143,
   "metadata": {},
   "outputs": [
    {
     "data": {
      "text/plain": [
       "<seaborn.axisgrid.FacetGrid at 0x2b24c22f940>"
      ]
     },
     "execution_count": 143,
     "metadata": {},
     "output_type": "execute_result"
    },
    {
     "data": {
      "image/png": "[encoded data removed]",
      "text/plain": [
       "<Figure size 1125.88x360 with 3 Axes>"
      ]
     },
     "metadata": {
      "needs_background": "light"
     },
     "output_type": "display_data"
    }
   ],
   "source": [
    "sns.catplot(data = df_procesado, x='arstmade', hue='race', col='sex', kind='count', palette='pastel')"
   ]
  },
  {
   "cell_type": "markdown",
   "metadata": {},
   "source": [
    "* Del total de personas que son **controladas**, la mayoría son de raza ***Negra*** e ***Hispanos blancos***, seguidas de ***Hispanos negros***, ya muy por debajo se encuentras todas las demás razas, resaltando también aunque minoritaria, el control a ***Blancos*** e ***Hispanos negros***.\n",
    "* Pasando ahora a los que son **arrestados**, nos encontramos con el mismo panorama, se detienen principalmente a personas de raza ***Negra*** e ***Hispanos blancos***.\n",
    "\n",
    "Ya con estos antecedentes, podemos ver una clara tendencia de que los datos recopilados están sesgados de una forma racista, no se controla a la gente por igual, tienen una clara tendencia a controlar a personas negras e hispanas, por lo que probablemente los resultados de los modelos que puedan salir de analizar esta información, sean también sesgado. Por lo que tendremos que tener mucho cuidado en la ética del análisis que realizemos."
   ]
  },
  {
   "cell_type": "markdown",
   "metadata": {},
   "source": [
    "**Por último, ¿qué tipo de datos tenemos?**"
   ]
  },
  {
   "cell_type": "code",
   "execution_count": 144,
   "metadata": {},
   "outputs": [
    {
     "data": {
      "text/plain": [
       "object     74\n",
       "int64       1\n",
       "float64     1\n",
       "dtype: int64"
      ]
     },
     "execution_count": 144,
     "metadata": {},
     "output_type": "execute_result"
    }
   ],
   "source": [
    "df_procesado.dtypes.value_counts()"
   ]
  },
  {
   "cell_type": "code",
   "execution_count": 145,
   "metadata": {},
   "outputs": [
    {
     "data": {
      "text/plain": [
       "object     97.368421\n",
       "int64       1.315789\n",
       "float64     1.315789\n",
       "dtype: float64"
      ]
     },
     "execution_count": 145,
     "metadata": {},
     "output_type": "execute_result"
    }
   ],
   "source": [
    "df_procesado.dtypes.value_counts('%')*100"
   ]
  },
  {
   "cell_type": "markdown",
   "metadata": {},
   "source": [
    "El 95.3% de los atributos del dataset son variables categóricas, a pesar de que se pueden tratar para pasarlas a valores numéricos, para que puedan ser usadas en los modelos de machine learning, son demasiados valores categóricos, por lo que veremos finalmente si los resultados obtenidos son de buena calidad, para tener conclusiones de peso."
   ]
  },
  {
   "cell_type": "markdown",
   "metadata": {},
   "source": [
    "# 3. Feature Engieneering"
   ]
  },
  {
   "cell_type": "code",
   "execution_count": 146,
   "metadata": {},
   "outputs": [
    {
     "name": "stdout",
     "output_type": "stream",
     "text": [
      "addrtyp 1\n",
      "dettypcm 1\n"
     ]
    }
   ],
   "source": [
    "for i in df_procesado.columns:\n",
    "    if df_procesado[i].unique().shape[0] < 2:\n",
    "        print(i, df_procesado[i].unique().shape[0])"
   ]
  },
  {
   "cell_type": "code",
   "execution_count": 147,
   "metadata": {},
   "outputs": [
    {
     "data": {
      "text/plain": [
       "array([1, '1'], dtype=object)"
      ]
     },
     "execution_count": 147,
     "metadata": {},
     "output_type": "execute_result"
    }
   ],
   "source": [
    "df_procesado['linecm'].unique()"
   ]
  },
  {
   "cell_type": "code",
   "execution_count": 148,
   "metadata": {},
   "outputs": [],
   "source": [
    "df_procesado.drop(columns = ['addrtyp', 'dettypcm', 'linecm'], axis=1, inplace=True)"
   ]
  },
  {
   "cell_type": "markdown",
   "metadata": {},
   "source": [
    "Eliminamos las siguientes variables, por tener sólo un tipo de dato y no brindar información:\n",
    "* ***addrtyp***\n",
    "* ***dettypcm*** \n",
    "* ***linecm***"
   ]
  },
  {
   "cell_type": "markdown",
   "metadata": {},
   "source": [
    "***¿Cuales atributos tienen más de 2 valores únicos?***"
   ]
  },
  {
   "cell_type": "code",
   "execution_count": 149,
   "metadata": {},
   "outputs": [
    {
     "name": "stdout",
     "output_type": "stream",
     "text": [
      "trhsloc 4\n",
      "typeofid 4\n",
      "sex 3\n",
      "race 8\n",
      "haircolr 11\n",
      "eyecolor 11\n",
      "build 5\n",
      "city 6\n",
      "sector 18\n",
      "beat 63\n",
      "month 12\n",
      "meters 30\n"
     ]
    }
   ],
   "source": [
    "for i in df_procesado.columns:\n",
    "    if df_procesado[i].unique().shape[0] > 2:\n",
    "        print(i, df_procesado[i].unique().shape[0])"
   ]
  },
  {
   "cell_type": "code",
   "execution_count": 150,
   "metadata": {},
   "outputs": [
    {
     "data": {
      "text/plain": [
       "BROOKLYN         3111\n",
       "QUEENS           2180\n",
       "MANHATTAN        2041\n",
       "BRONX            1580\n",
       "STATEN ISLAND     245\n",
       "STATEN IS         226\n",
       "Name: city, dtype: int64"
      ]
     },
     "execution_count": 150,
     "metadata": {},
     "output_type": "execute_result"
    }
   ],
   "source": [
    "df_procesado.city.value_counts()"
   ]
  },
  {
   "cell_type": "markdown",
   "metadata": {},
   "source": [
    "Modificamos el valor de ***STATEN IS***, para que sea ***STATEN ISLAND***"
   ]
  },
  {
   "cell_type": "code",
   "execution_count": 151,
   "metadata": {},
   "outputs": [],
   "source": [
    "df_procesado['city'].replace(to_replace='STATEN IS', value='STATEN ISLAND', inplace=True)"
   ]
  },
  {
   "cell_type": "code",
   "execution_count": 152,
   "metadata": {},
   "outputs": [
    {
     "data": {
      "text/plain": [
       "U       63.103485\n",
       "9        3.495684\n",
       "1        2.749654\n",
       "7        2.579132\n",
       "4        2.344666\n",
       "          ...    \n",
       "30       0.010658\n",
       "  25     0.010658\n",
       "26       0.010658\n",
       "  61     0.010658\n",
       "  42     0.010658\n",
       "Name: beat, Length: 63, dtype: float64"
      ]
     },
     "execution_count": 152,
     "metadata": {},
     "output_type": "execute_result"
    }
   ],
   "source": [
    "df_procesado['beat'].value_counts('%')*100"
   ]
  },
  {
   "cell_type": "code",
   "execution_count": 153,
   "metadata": {},
   "outputs": [],
   "source": [
    "df_procesado.drop(columns=['beat'], axis=1, inplace=True)"
   ]
  },
  {
   "cell_type": "markdown",
   "metadata": {},
   "source": [
    "Eliminamos  ***beat*** por tener 63 valores diferentes y un 63% de ellos son valores desconocidos, por lo que no aporta información relevante."
   ]
  },
  {
   "cell_type": "markdown",
   "metadata": {},
   "source": [
    "***¿Qué sucede con las columnas que comienzan con \"pf_\"?***\n",
    "\n",
    "Sucede que todas esas columnas hacen alusión a un tipo de detención usando fuerza física por parte del oficial, por lo cual los uniremos en una categoría llamada ***violent_arrest***, en donde si un detención tiene presente al menos uno de estos factores, será catalogado como violento.\n",
    "\n",
    "De esta manera podremos eliminar todas estas columnas, para dejar presente sólo la detención violenta."
   ]
  },
  {
   "cell_type": "code",
   "execution_count": 154,
   "metadata": {},
   "outputs": [],
   "source": [
    "df_procesado['violent_arrest'] = np.select([df_procesado['pf_hands'] == 'Y', df_procesado['pf_wall'] == 'Y', df_procesado['pf_grnd']  == 'Y', \n",
    "                                          df_procesado['pf_drwep'] == 'Y' , df_procesado['pf_ptwep'] == 'Y' , df_procesado['pf_baton'] == 'Y',\n",
    "                                          df_procesado['pf_hcuff'] == 'Y' , df_procesado['pf_pepsp'] == 'Y', df_procesado['pf_other'] == 'Y'],\n",
    "                                          [1, 1, 1, 1, 1, 1, 1, 1, 1], 0)"
   ]
  },
  {
   "cell_type": "code",
   "execution_count": 155,
   "metadata": {},
   "outputs": [],
   "source": [
    "df_procesado.drop(columns = ['pf_hands', 'pf_wall', 'pf_grnd', 'pf_drwep',\n",
    "                            'pf_ptwep', 'pf_baton', 'pf_hcuff', 'pf_pepsp',\n",
    "                            'pf_other'], inplace = True)"
   ]
  },
  {
   "cell_type": "code",
   "execution_count": 156,
   "metadata": {},
   "outputs": [
    {
     "data": {
      "text/plain": [
       "0    76.084408\n",
       "1    23.915592\n",
       "Name: violent_arrest, dtype: float64"
      ]
     },
     "execution_count": 156,
     "metadata": {},
     "output_type": "execute_result"
    },
    {
     "data": {
      "image/png": "[encoded data removed]",
      "text/plain": [
       "<Figure size 432x288 with 1 Axes>"
      ]
     },
     "metadata": {
      "needs_background": "light"
     },
     "output_type": "display_data"
    }
   ],
   "source": [
    "sns.countplot(data=df_procesado, x='violent_arrest')\n",
    "df_procesado['violent_arrest'].value_counts('%')*100"
   ]
  },
  {
   "cell_type": "markdown",
   "metadata": {},
   "source": [
    "Del total de controles realizados, un 23.9% de ellos fueron realizados por el oficial utilizando fuerza física.\n",
    "\n",
    "En otras palabras 1 de cada 4 controles fueron realizados de forma violenta por los oficiales."
   ]
  },
  {
   "cell_type": "markdown",
   "metadata": {},
   "source": [
    "## 3.1. Binarización de datos\n",
    "\n",
    "Debido a que los modelos de machine learning no funcionan con valores categóricos, es necesario recodificarlos de alguna manera, para que estos puedan quedar en formato numérico, ahora utilizaré la función de la librería *pandas* 'get_dummies' la que convierte las variables categóricas en variables dummies en donde toman el valor de 1 si cumplen la condición de la columna y 0 si no."
   ]
  },
  {
   "cell_type": "code",
   "execution_count": 157,
   "metadata": {},
   "outputs": [],
   "source": [
    "var_categoricas = []\n",
    "for i in df_procesado:\n",
    "    if df_procesado[i].dtype == object:\n",
    "        var_categoricas.append(i)"
   ]
  },
  {
   "cell_type": "code",
   "execution_count": 158,
   "metadata": {},
   "outputs": [],
   "source": [
    "df_binarizado = hp.binarizar(df_procesado, var_categoricas)"
   ]
  },
  {
   "cell_type": "code",
   "execution_count": 159,
   "metadata": {},
   "outputs": [
    {
     "data": {
      "text/html": [
       "<div>\n",
       "<style scoped>\n",
       "    .dataframe tbody tr th:only-of-type {\n",
       "        vertical-align: middle;\n",
       "    }\n",
       "\n",
       "    .dataframe tbody tr th {\n",
       "        vertical-align: top;\n",
       "    }\n",
       "\n",
       "    .dataframe thead th {\n",
       "        text-align: right;\n",
       "    }\n",
       "</style>\n",
       "<table border=\"1\" class=\"dataframe\">\n",
       "  <thead>\n",
       "    <tr style=\"text-align: right;\">\n",
       "      <th></th>\n",
       "      <th>month</th>\n",
       "      <th>meters</th>\n",
       "      <th>violent_arrest</th>\n",
       "      <th>recstat_1</th>\n",
       "      <th>inout_I</th>\n",
       "      <th>trhsloc_H</th>\n",
       "      <th>trhsloc_T</th>\n",
       "      <th>trhsloc_U</th>\n",
       "      <th>typeofid_O</th>\n",
       "      <th>typeofid_R</th>\n",
       "      <th>...</th>\n",
       "      <th>sector_I</th>\n",
       "      <th>sector_J</th>\n",
       "      <th>sector_K</th>\n",
       "      <th>sector_M</th>\n",
       "      <th>sector_N</th>\n",
       "      <th>sector_P</th>\n",
       "      <th>sector_Q</th>\n",
       "      <th>sector_R</th>\n",
       "      <th>sector_T</th>\n",
       "      <th>sector_U</th>\n",
       "    </tr>\n",
       "    <tr>\n",
       "      <th>year</th>\n",
       "      <th></th>\n",
       "      <th></th>\n",
       "      <th></th>\n",
       "      <th></th>\n",
       "      <th></th>\n",
       "      <th></th>\n",
       "      <th></th>\n",
       "      <th></th>\n",
       "      <th></th>\n",
       "      <th></th>\n",
       "      <th></th>\n",
       "      <th></th>\n",
       "      <th></th>\n",
       "      <th></th>\n",
       "      <th></th>\n",
       "      <th></th>\n",
       "      <th></th>\n",
       "      <th></th>\n",
       "      <th></th>\n",
       "      <th></th>\n",
       "      <th></th>\n",
       "    </tr>\n",
       "  </thead>\n",
       "  <tbody>\n",
       "    <tr>\n",
       "      <th>2009</th>\n",
       "      <td>4</td>\n",
       "      <td>1.798320</td>\n",
       "      <td>0</td>\n",
       "      <td>0</td>\n",
       "      <td>0</td>\n",
       "      <td>0</td>\n",
       "      <td>0</td>\n",
       "      <td>0</td>\n",
       "      <td>0</td>\n",
       "      <td>0</td>\n",
       "      <td>...</td>\n",
       "      <td>0</td>\n",
       "      <td>0</td>\n",
       "      <td>0</td>\n",
       "      <td>0</td>\n",
       "      <td>0</td>\n",
       "      <td>0</td>\n",
       "      <td>0</td>\n",
       "      <td>0</td>\n",
       "      <td>0</td>\n",
       "      <td>0</td>\n",
       "    </tr>\n",
       "    <tr>\n",
       "      <th>2009</th>\n",
       "      <td>10</td>\n",
       "      <td>1.920240</td>\n",
       "      <td>0</td>\n",
       "      <td>1</td>\n",
       "      <td>0</td>\n",
       "      <td>0</td>\n",
       "      <td>0</td>\n",
       "      <td>0</td>\n",
       "      <td>0</td>\n",
       "      <td>0</td>\n",
       "      <td>...</td>\n",
       "      <td>0</td>\n",
       "      <td>0</td>\n",
       "      <td>0</td>\n",
       "      <td>0</td>\n",
       "      <td>0</td>\n",
       "      <td>0</td>\n",
       "      <td>0</td>\n",
       "      <td>0</td>\n",
       "      <td>0</td>\n",
       "      <td>0</td>\n",
       "    </tr>\n",
       "    <tr>\n",
       "      <th>2009</th>\n",
       "      <td>12</td>\n",
       "      <td>1.676400</td>\n",
       "      <td>0</td>\n",
       "      <td>0</td>\n",
       "      <td>0</td>\n",
       "      <td>0</td>\n",
       "      <td>0</td>\n",
       "      <td>0</td>\n",
       "      <td>0</td>\n",
       "      <td>0</td>\n",
       "      <td>...</td>\n",
       "      <td>0</td>\n",
       "      <td>1</td>\n",
       "      <td>0</td>\n",
       "      <td>0</td>\n",
       "      <td>0</td>\n",
       "      <td>0</td>\n",
       "      <td>0</td>\n",
       "      <td>0</td>\n",
       "      <td>0</td>\n",
       "      <td>0</td>\n",
       "    </tr>\n",
       "    <tr>\n",
       "      <th>2009</th>\n",
       "      <td>5</td>\n",
       "      <td>1.767840</td>\n",
       "      <td>0</td>\n",
       "      <td>1</td>\n",
       "      <td>1</td>\n",
       "      <td>0</td>\n",
       "      <td>1</td>\n",
       "      <td>0</td>\n",
       "      <td>0</td>\n",
       "      <td>0</td>\n",
       "      <td>...</td>\n",
       "      <td>0</td>\n",
       "      <td>0</td>\n",
       "      <td>0</td>\n",
       "      <td>0</td>\n",
       "      <td>0</td>\n",
       "      <td>0</td>\n",
       "      <td>0</td>\n",
       "      <td>0</td>\n",
       "      <td>0</td>\n",
       "      <td>0</td>\n",
       "    </tr>\n",
       "    <tr>\n",
       "      <th>2009</th>\n",
       "      <td>11</td>\n",
       "      <td>1.557528</td>\n",
       "      <td>0</td>\n",
       "      <td>1</td>\n",
       "      <td>0</td>\n",
       "      <td>0</td>\n",
       "      <td>0</td>\n",
       "      <td>0</td>\n",
       "      <td>0</td>\n",
       "      <td>0</td>\n",
       "      <td>...</td>\n",
       "      <td>0</td>\n",
       "      <td>0</td>\n",
       "      <td>0</td>\n",
       "      <td>0</td>\n",
       "      <td>1</td>\n",
       "      <td>0</td>\n",
       "      <td>0</td>\n",
       "      <td>0</td>\n",
       "      <td>0</td>\n",
       "      <td>0</td>\n",
       "    </tr>\n",
       "  </tbody>\n",
       "</table>\n",
       "<p>5 rows × 115 columns</p>\n",
       "</div>"
      ],
      "text/plain": [
       "      month    meters  violent_arrest  recstat_1  inout_I  trhsloc_H  \\\n",
       "year                                                                   \n",
       "2009      4  1.798320               0          0        0          0   \n",
       "2009     10  1.920240               0          1        0          0   \n",
       "2009     12  1.676400               0          0        0          0   \n",
       "2009      5  1.767840               0          1        1          0   \n",
       "2009     11  1.557528               0          1        0          0   \n",
       "\n",
       "      trhsloc_T  trhsloc_U  typeofid_O  typeofid_R  ...  sector_I  sector_J  \\\n",
       "year                                                ...                       \n",
       "2009          0          0           0           0  ...         0         0   \n",
       "2009          0          0           0           0  ...         0         0   \n",
       "2009          0          0           0           0  ...         0         1   \n",
       "2009          1          0           0           0  ...         0         0   \n",
       "2009          0          0           0           0  ...         0         0   \n",
       "\n",
       "      sector_K  sector_M  sector_N  sector_P  sector_Q  sector_R  sector_T  \\\n",
       "year                                                                         \n",
       "2009         0         0         0         0         0         0         0   \n",
       "2009         0         0         0         0         0         0         0   \n",
       "2009         0         0         0         0         0         0         0   \n",
       "2009         0         0         0         0         0         0         0   \n",
       "2009         0         0         1         0         0         0         0   \n",
       "\n",
       "      sector_U  \n",
       "year            \n",
       "2009         0  \n",
       "2009         0  \n",
       "2009         0  \n",
       "2009         0  \n",
       "2009         0  \n",
       "\n",
       "[5 rows x 115 columns]"
      ]
     },
     "execution_count": 159,
     "metadata": {},
     "output_type": "execute_result"
    }
   ],
   "source": [
    "df_binarizado.head(5)"
   ]
  },
  {
   "cell_type": "markdown",
   "metadata": {},
   "source": [
    "## 3.2. Separación de datos.\n",
    "\n",
    "Los datos del año 2009 serán utilizados para el entrenamiento y los del año 2010 lo usaremos para para validación.\n",
    "\n",
    "Nuestros vectores objetivos serán dos:\n",
    "* ***arstmade_Y***: Si el control terminó en un arresto.\n",
    "* ***violent_arrest***: Si el control fué violento (el oficial utilizó fuerza física)."
   ]
  },
  {
   "cell_type": "code",
   "execution_count": 160,
   "metadata": {},
   "outputs": [],
   "source": [
    "# Entrenamiento\n",
    "df_train = df_binarizado.query('year==2009')\n",
    "X_train_arstmade = df_train.drop(columns = ['arstmade_Y'])\n",
    "y_train_arstmade = df_train['arstmade_Y']\n",
    "\n",
    "X_train_violent = df_train.drop(columns = ['violent_arrest'])\n",
    "y_train_violent = df_train['violent_arrest']\n",
    "\n",
    "# Testeo\n",
    "df_test = df_binarizado.query('year==2010')\n",
    "X_test_arstmade = df_test.drop(columns = ['arstmade_Y'])\n",
    "y_test_arstmade = df_test['arstmade_Y']\n",
    "\n",
    "X_test_violent = df_test.drop(columns = ['violent_arrest'])\n",
    "y_test_violent = df_test['violent_arrest']"
   ]
  },
  {
   "cell_type": "code",
   "execution_count": 161,
   "metadata": {},
   "outputs": [
    {
     "data": {
      "text/plain": [
       "Index([], dtype='object')"
      ]
     },
     "execution_count": 161,
     "metadata": {},
     "output_type": "execute_result"
    }
   ],
   "source": [
    "df_test.columns.difference(df_train.columns)"
   ]
  },
  {
   "cell_type": "markdown",
   "metadata": {},
   "source": [
    "No hay diferencias entre los datos de entrenamiento y testeo, por lo cual ya estamos listos para comenzar a modelar."
   ]
  },
  {
   "cell_type": "markdown",
   "metadata": {},
   "source": [
    "# 4. Modelación"
   ]
  },
  {
   "cell_type": "markdown",
   "metadata": {},
   "source": [
    "Antes de modelar, cabe preguntarnos qué métricas de evaluación, serán las más relevante para estos problemas, dado que estamos clasificando detenciones que terminan en arrestos, como también detenciones que tengan violencia, y además las clases están desbalanceadas, el **accuracy** no es una buena medida de evaluación, ya que lo más interesante a clasificar es cuando la clase tendrá el valor de 1 (hubo un arresto o fue violento el arresto), y al estar desbalanceado el problema, generalmente clasifica de manera muy buena la clase con mayores ocurrencias (clase 0) y mal la con menos ocurrencia (clase 1), por lo que el accuracy no nos dice mucho.\n",
    "\n",
    "Por otro lado la **métrica más relevante** para estos casos, es la **precision**, ya que lo que queremos es capturar de buena manera los True Positive, y además el costo de un falso positivo es alto (decir que un control resultará en arresto, cuando no debería serlo), ya que se estará de cierta forma inculpando de manera injustificada a la persona controlada."
   ]
  },
  {
   "cell_type": "markdown",
   "metadata": {},
   "source": [
    "## 4.1. Grilla de búsqueda oversampling.\n",
    "\n",
    "A continuación están la grillas de hiperparámetros que se usarán."
   ]
  },
  {
   "cell_type": "code",
   "execution_count": 162,
   "metadata": {},
   "outputs": [],
   "source": [
    "grid_params_NB = [{'alpha' : [1, 0.1, 0.01, 0.001, 0.0001, 0.00001]\n",
    "                  }]"
   ]
  },
  {
   "cell_type": "markdown",
   "metadata": {},
   "source": [
    "## 4.2. ¿Realizamos Oversampling?"
   ]
  },
  {
   "cell_type": "markdown",
   "metadata": {},
   "source": [
    "Nuestros dos vectores objetivos están desbalanceados, los problemas de clasificación con clases desbalanceadas crea un sesgo en los modelos de machine learning, en donde a veces tienden a predecir la clase mayoritaria. \n",
    "\n",
    "* arstmade: 6.3%\n",
    "* violent_arrest: 23.9%\n",
    "\n",
    "Probaremos con el algoritmo Neive Bayes clasificar con y sin la técnica de Oversampling, a través de SMOTE y veremos que resultados arroja."
   ]
  },
  {
   "cell_type": "code",
   "execution_count": 163,
   "metadata": {},
   "outputs": [],
   "source": [
    "# Instanciamos la clase\n",
    "oversampler = SMOTE(random_state = 3214, sampling_strategy = 'minority')\n",
    "# Generamos el oversampling de la matriz de entrenamiento\n",
    "X_train_oversamp_violent, y_train_oversamp_violent = oversampler.fit_resample(X_train_violent, y_train_violent)\n",
    "\n",
    "# Generamos el oversampling de la matriz de entrenamiento\n",
    "X_train_oversamp_arstmade, y_train_oversamp_arstmade = oversampler.fit_resample(X_train_arstmade, y_train_arstmade)"
   ]
  },
  {
   "cell_type": "code",
   "execution_count": 164,
   "metadata": {},
   "outputs": [
    {
     "data": {
      "image/png": "[encoded data removed]",
      "text/plain": [
       "<Figure size 432x288 with 2 Axes>"
      ]
     },
     "metadata": {
      "needs_background": "light"
     },
     "output_type": "display_data"
    }
   ],
   "source": [
    "plt.suptitle('Vector objetivo Arstmade con y sin Oversampling', fontsize = 15)\n",
    "plt.subplot(1, 2, 1)\n",
    "sns.countplot(x=y_train_arstmade)\n",
    "plt.subplot(1, 2, 2)\n",
    "sns.countplot(x=y_train_oversamp_arstmade)\n",
    "plt.tight_layout()"
   ]
  },
  {
   "cell_type": "code",
   "execution_count": 165,
   "metadata": {},
   "outputs": [
    {
     "data": {
      "image/png": "[encoded data removed]",
      "text/plain": [
       "<Figure size 432x288 with 2 Axes>"
      ]
     },
     "metadata": {
      "needs_background": "light"
     },
     "output_type": "display_data"
    }
   ],
   "source": [
    "plt.suptitle('Vector objetivo violent_arrest con y sin Oversampling', fontsize = 15)\n",
    "plt.subplot(1, 2, 1)\n",
    "sns.countplot(x=y_train_violent)\n",
    "plt.subplot(1, 2, 2)\n",
    "sns.countplot(x=y_train_oversamp_violent)\n",
    "plt.tight_layout()"
   ]
  },
  {
   "cell_type": "markdown",
   "metadata": {},
   "source": [
    "### 4.2.1. Aplicando Multinomial Naive Bayes con SMOTE"
   ]
  },
  {
   "cell_type": "code",
   "execution_count": 166,
   "metadata": {},
   "outputs": [
    {
     "name": "stdout",
     "output_type": "stream",
     "text": [
      "Los mejores parámetros son:  {'alpha': 1}\n"
     ]
    }
   ],
   "source": [
    "NB_arstmade = GridSearchCV(estimator = MultinomialNB(),\n",
    "                         param_grid = grid_params_NB,\n",
    "                         scoring = 'accuracy',\n",
    "                         cv = 10,\n",
    "                         n_jobs = -1)\n",
    "NB_arstmade.fit(X_train_arstmade, y_train_arstmade)\n",
    "print('Los mejores parámetros son: ', NB_arstmade.best_params_)"
   ]
  },
  {
   "cell_type": "code",
   "execution_count": 167,
   "metadata": {},
   "outputs": [
    {
     "name": "stdout",
     "output_type": "stream",
     "text": [
      "Los mejores parámetros son:  {'alpha': 1}\n"
     ]
    }
   ],
   "source": [
    "NB_violent = GridSearchCV(estimator = MultinomialNB(),\n",
    "                         param_grid = grid_params_NB,\n",
    "                         scoring = 'accuracy',\n",
    "                         cv = 10,\n",
    "                         n_jobs = -1)\n",
    "NB_violent.fit(X_train_violent, y_train_violent)\n",
    "print('Los mejores parámetros son: ', NB_violent.best_params_)"
   ]
  },
  {
   "cell_type": "markdown",
   "metadata": {},
   "source": [
    "***Comparativa con/sin oversampling***"
   ]
  },
  {
   "cell_type": "code",
   "execution_count": 168,
   "metadata": {},
   "outputs": [
    {
     "name": "stdout",
     "output_type": "stream",
     "text": [
      "Métricas con Multinomial Naive Bayes sin oversampling: \n",
      "\n",
      "              precision    recall  f1-score   support\n",
      "\n",
      "           0       0.84      0.83      0.84      3639\n",
      "           1       0.47      0.49      0.48      1108\n",
      "\n",
      "    accuracy                           0.75      4747\n",
      "   macro avg       0.66      0.66      0.66      4747\n",
      "weighted avg       0.76      0.75      0.75      4747\n",
      "\n"
     ]
    }
   ],
   "source": [
    "# Violent sin oversampleo\n",
    "violent_sin_over = MultinomialNB(alpha = 1).fit(X_train_violent, y_train_violent)\n",
    "yhat_NB_violent = hp.reporte_metricas(violent_sin_over, X_test_violent, y_test_violent, 'Métricas con Multinomial Naive Bayes sin oversampling')"
   ]
  },
  {
   "cell_type": "code",
   "execution_count": 169,
   "metadata": {},
   "outputs": [
    {
     "name": "stdout",
     "output_type": "stream",
     "text": [
      "Métricas con Multinomial Naive Bayes con oversampling: \n",
      "\n",
      "              precision    recall  f1-score   support\n",
      "\n",
      "           0       0.88      0.71      0.78      3639\n",
      "           1       0.41      0.67      0.51      1108\n",
      "\n",
      "    accuracy                           0.70      4747\n",
      "   macro avg       0.64      0.69      0.65      4747\n",
      "weighted avg       0.77      0.70      0.72      4747\n",
      "\n"
     ]
    }
   ],
   "source": [
    "# Violent con oversampleo\n",
    "violent_over = MultinomialNB(alpha = 1).fit(X_train_oversamp_violent, y_train_oversamp_violent)\n",
    "yhat_NB_violent_over = hp.reporte_metricas(violent_over, X_test_violent, y_test_violent, 'Métricas con Multinomial Naive Bayes con oversampling')"
   ]
  },
  {
   "cell_type": "markdown",
   "metadata": {},
   "source": [
    "Viendo como afecta hacer oversample a los datos de entrenamiento nos podemos fijar en lo siguiente:\n",
    "* Accuracy: Disminuyó en 5 puntos\n",
    "* Precision clase 1: Disminuyó en 6 puntos\n",
    "* Recall clase 1: Aumentó en 18 puntos\n",
    "\n",
    "El oversampling, afectó en mayor medida al recall de la clase 1, pero nuestro objetivo es tener la **precision** más alta posible, que en el caso del oversampling empeoró en 5 puntos, **por lo que descartamos realizar oversampling en este dataset**."
   ]
  },
  {
   "cell_type": "code",
   "execution_count": 170,
   "metadata": {},
   "outputs": [
    {
     "name": "stdout",
     "output_type": "stream",
     "text": [
      "Métricas con Multinomial Naive Bayes Arstmade sin oversampling: \n",
      "\n",
      "              precision    recall  f1-score   support\n",
      "\n",
      "           0       0.98      0.98      0.98      4438\n",
      "           1       0.67      0.66      0.66       309\n",
      "\n",
      "    accuracy                           0.96      4747\n",
      "   macro avg       0.82      0.82      0.82      4747\n",
      "weighted avg       0.96      0.96      0.96      4747\n",
      "\n"
     ]
    }
   ],
   "source": [
    "# Arstmade sin oversampleo\n",
    "arstmade = MultinomialNB(alpha = 1).fit(X_train_arstmade, y_train_arstmade)   \n",
    "yhat_NB_violent = hp.reporte_metricas(arstmade, X_test_arstmade, y_test_arstmade, 'Métricas con Multinomial Naive Bayes Arstmade sin oversampling')"
   ]
  },
  {
   "cell_type": "code",
   "execution_count": 171,
   "metadata": {},
   "outputs": [
    {
     "name": "stdout",
     "output_type": "stream",
     "text": [
      "Métricas con Multinomial Naive Bayes Arstmade con oversampling: \n",
      "\n",
      "              precision    recall  f1-score   support\n",
      "\n",
      "           0       0.97      0.96      0.96      4438\n",
      "           1       0.49      0.60      0.53       309\n",
      "\n",
      "    accuracy                           0.93      4747\n",
      "   macro avg       0.73      0.78      0.75      4747\n",
      "weighted avg       0.94      0.93      0.94      4747\n",
      "\n"
     ]
    }
   ],
   "source": [
    "# Violent con oversampleo\n",
    "arstmade_over = MultinomialNB(alpha = 1).fit(X_train_oversamp_arstmade, y_train_oversamp_arstmade)\n",
    "yhat_NB_violent_over = hp.reporte_metricas(arstmade_over, X_test_arstmade, y_test_arstmade, 'Métricas con Multinomial Naive Bayes Arstmade con oversampling')"
   ]
  },
  {
   "cell_type": "markdown",
   "metadata": {},
   "source": [
    "Viendo como afecta hacer oversample a los datos de entrenamiento nos podemos fijar en lo siguiente:\n",
    "* Accuracy: Disminuyó en 3 puntos\n",
    "* Precision clase 1: Disminuyó en 18 puntos\n",
    "* Recall clase 1: Disminuyó en 6 puntos\n",
    "\n",
    "Bajo el rendimiento del algoritmo en todos los aspectos, **por lo que descartamos hacer oversampleo con este dataset**."
   ]
  },
  {
   "cell_type": "markdown",
   "metadata": {},
   "source": [
    "## 4.3. Modelado de la predicción del evento 'Arstmade' (arresto)"
   ]
  },
  {
   "cell_type": "markdown",
   "metadata": {},
   "source": [
    "### 4.3.1. Grillas de búsqueda hiperparámetros"
   ]
  },
  {
   "cell_type": "code",
   "execution_count": 172,
   "metadata": {},
   "outputs": [],
   "source": [
    "grid_params_LR = [{'penalty': ['l2'],\n",
    "                  'C' : [0.0001, 0.001, 0.01, 0.1, 1, 10, 100, 1000],\n",
    "                   'max_iter' : [100, 500, 1000, 2000,]\n",
    "                  }]"
   ]
  },
  {
   "cell_type": "code",
   "execution_count": 173,
   "metadata": {},
   "outputs": [],
   "source": [
    "grid_params_GB = [{'n_estimators' : [100, 500, 1000],\n",
    "                   'learning_rate' : [0.01, 0.1, 0.5, 1, 5, 10],\n",
    "                   'subsample' : np.linspace(0.1, 1, 5, endpoint = True, dtype = float)\n",
    "                  }]"
   ]
  },
  {
   "cell_type": "code",
   "execution_count": 174,
   "metadata": {},
   "outputs": [],
   "source": [
    "grid_params_NB = [{'alpha' : [1, 0.1, 0.01, 0.001, 0.0001, 0.00001]\n",
    "                  }]"
   ]
  },
  {
   "cell_type": "code",
   "execution_count": 175,
   "metadata": {},
   "outputs": [],
   "source": [
    "grid_params_SVC = [{'C': [0.1, 1, 10, 100, 1000],  \n",
    "                  'gamma' : [1, 0.1, 0.01, 0.001, 0.0001], \n",
    "                  'kernel': ['rbf', 'poly']\n",
    "                  }]"
   ]
  },
  {
   "cell_type": "code",
   "execution_count": 176,
   "metadata": {},
   "outputs": [],
   "source": [
    "grid_params_DecTree = [{'criterion' : ['gini', 'entropy'],\n",
    "                        'max_depth' : [1, 2, 3, 4],\n",
    "                        'max_features' : ['sqrt', 'log2'],\n",
    "                        'random_state' : [123]\n",
    "                       }]"
   ]
  },
  {
   "cell_type": "code",
   "execution_count": 177,
   "metadata": {},
   "outputs": [],
   "source": [
    "grid_params_RF = [{'n_estimators' : [50,80,100],\n",
    "                   'criterion' : ['gini', 'entropy'],\n",
    "                   'max_depth' : [2,3],\n",
    "                   'max_features' : ['sqrt', 'log2'],\n",
    "                   'random_state' : [123]\n",
    "                   }]"
   ]
  },
  {
   "cell_type": "markdown",
   "metadata": {},
   "source": [
    "***Logistic Regression 'Arstmade'***"
   ]
  },
  {
   "cell_type": "code",
   "execution_count": 178,
   "metadata": {},
   "outputs": [
    {
     "name": "stdout",
     "output_type": "stream",
     "text": [
      "Métricas con Logistic Regression de Arstmade: \n",
      "\n",
      "              precision    recall  f1-score   support\n",
      "\n",
      "           0       0.97      0.99      0.98      4438\n",
      "           1       0.87      0.49      0.62       309\n",
      "\n",
      "    accuracy                           0.96      4747\n",
      "   macro avg       0.92      0.74      0.80      4747\n",
      "weighted avg       0.96      0.96      0.96      4747\n",
      "\n"
     ]
    },
    {
     "data": {
      "text/plain": [
       "array([[4415,   23],\n",
       "       [ 159,  150]], dtype=int64)"
      ]
     },
     "execution_count": 178,
     "metadata": {},
     "output_type": "execute_result"
    }
   ],
   "source": [
    "LR_arstmade = GridSearchCV(estimator = LogisticRegression(),\n",
    "                          param_grid = grid_params_LR,\n",
    "                          scoring = 'precision',\n",
    "                          cv = 10,\n",
    "                          n_jobs = -1)\n",
    "LR_arstmade.fit(X_train_arstmade, y_train_arstmade)\n",
    "best_LR_arstmade = LR_arstmade.best_estimator_.fit(X_train_arstmade, y_train_arstmade)\n",
    "yhat_LR_arstmade = hp.reporte_metricas(best_LR_arstmade, X_test_arstmade, y_test_arstmade, 'Métricas con Logistic Regression de Arstmade')\n",
    "confusion_matrix(y_test_arstmade, yhat_LR_arstmade)"
   ]
  },
  {
   "cell_type": "code",
   "execution_count": 179,
   "metadata": {},
   "outputs": [],
   "source": [
    "accuracy_LR_arstmade, precision_LR_arstmade, recall_LR_arstmade = hp.get_metrics(y_test_arstmade, yhat_LR_arstmade)"
   ]
  },
  {
   "cell_type": "markdown",
   "metadata": {},
   "source": [
    "***Gradient Boosting Classifier 'Arstmade'***"
   ]
  },
  {
   "cell_type": "code",
   "execution_count": 180,
   "metadata": {},
   "outputs": [
    {
     "name": "stdout",
     "output_type": "stream",
     "text": [
      "Métricas con Multinomial Gradient Boosting Classifier de Arstmade: \n",
      "\n",
      "              precision    recall  f1-score   support\n",
      "\n",
      "           0       0.97      1.00      0.98      4438\n",
      "           1       0.87      0.50      0.63       309\n",
      "\n",
      "    accuracy                           0.96      4747\n",
      "   macro avg       0.92      0.75      0.81      4747\n",
      "weighted avg       0.96      0.96      0.96      4747\n",
      "\n"
     ]
    },
    {
     "data": {
      "text/plain": [
       "array([[4416,   22],\n",
       "       [ 156,  153]], dtype=int64)"
      ]
     },
     "execution_count": 180,
     "metadata": {},
     "output_type": "execute_result"
    }
   ],
   "source": [
    "GB_arstmade = GridSearchCV(estimator = GradientBoostingClassifier(),\n",
    "                          param_grid = grid_params_GB,\n",
    "                          scoring = 'precision',\n",
    "                          cv = 3,\n",
    "                          n_jobs = -1)\n",
    "GB_arstmade.fit(X_train_arstmade, y_train_arstmade)\n",
    "best_GB_arstmade = GB_arstmade.best_estimator_.fit(X_train_arstmade, y_train_arstmade)\n",
    "yhat_GB_arstmade = hp.reporte_metricas(best_GB_arstmade, X_test_arstmade, y_test_arstmade, 'Métricas con Multinomial Gradient Boosting Classifier de Arstmade')\n",
    "confusion_matrix(y_test_arstmade, yhat_GB_arstmade)"
   ]
  },
  {
   "cell_type": "code",
   "execution_count": 181,
   "metadata": {},
   "outputs": [],
   "source": [
    "accuracy_GB_arstmade, precision_GB_arstmade, recall_GB_arstmade = hp.get_metrics(y_test_arstmade, yhat_GB_arstmade)"
   ]
  },
  {
   "cell_type": "markdown",
   "metadata": {},
   "source": [
    "***Multinomial Naive Bayes 'Arstmade'***"
   ]
  },
  {
   "cell_type": "code",
   "execution_count": 182,
   "metadata": {},
   "outputs": [
    {
     "name": "stdout",
     "output_type": "stream",
     "text": [
      "Métricas con Multinomial Naive Bayes de Arstmade: \n",
      "\n",
      "              precision    recall  f1-score   support\n",
      "\n",
      "           0       0.98      0.98      0.98      4438\n",
      "           1       0.67      0.66      0.66       309\n",
      "\n",
      "    accuracy                           0.96      4747\n",
      "   macro avg       0.82      0.82      0.82      4747\n",
      "weighted avg       0.96      0.96      0.96      4747\n",
      "\n"
     ]
    },
    {
     "data": {
      "text/plain": [
       "array([[4338,  100],\n",
       "       [ 106,  203]], dtype=int64)"
      ]
     },
     "execution_count": 182,
     "metadata": {},
     "output_type": "execute_result"
    }
   ],
   "source": [
    "NB_arstmade = GridSearchCV(estimator = MultinomialNB(),\n",
    "                          param_grid = grid_params_NB,\n",
    "                          scoring = 'precision',\n",
    "                          cv = 10,\n",
    "                          n_jobs = -1)\n",
    "NB_arstmade.fit(X_train_arstmade, y_train_arstmade)\n",
    "best_NB_arstmade = NB_arstmade.best_estimator_.fit(X_train_arstmade, y_train_arstmade)\n",
    "yhat_NB_arstmade = hp.reporte_metricas(best_NB_arstmade, X_test_arstmade, y_test_arstmade, 'Métricas con Multinomial Naive Bayes de Arstmade')\n",
    "confusion_matrix(y_test_arstmade, yhat_NB_arstmade)"
   ]
  },
  {
   "cell_type": "code",
   "execution_count": 183,
   "metadata": {},
   "outputs": [],
   "source": [
    "accuracy_NB_arstmade, precision_NB_arstmade, recall_NB_arstmade = hp.get_metrics(y_test_arstmade, yhat_NB_arstmade)"
   ]
  },
  {
   "cell_type": "markdown",
   "metadata": {},
   "source": [
    "***Support Vector Classifier 'Arstmade'***"
   ]
  },
  {
   "cell_type": "code",
   "execution_count": 184,
   "metadata": {},
   "outputs": [
    {
     "name": "stdout",
     "output_type": "stream",
     "text": [
      "Métricas con Logistic Regression de Arstmade: \n",
      "\n",
      "              precision    recall  f1-score   support\n",
      "\n",
      "           0       0.95      1.00      0.97      4438\n",
      "           1       0.82      0.26      0.39       309\n",
      "\n",
      "    accuracy                           0.95      4747\n",
      "   macro avg       0.89      0.63      0.68      4747\n",
      "weighted avg       0.94      0.95      0.93      4747\n",
      "\n"
     ]
    },
    {
     "data": {
      "text/plain": [
       "array([[4421,   17],\n",
       "       [ 230,   79]], dtype=int64)"
      ]
     },
     "execution_count": 184,
     "metadata": {},
     "output_type": "execute_result"
    }
   ],
   "source": [
    "SVC_arstmade = GridSearchCV(estimator = SVC(),\n",
    "                          param_grid = grid_params_SVC,\n",
    "                          scoring = 'precision',\n",
    "                          cv = 3,\n",
    "                          n_jobs = -1)\n",
    "SVC_arstmade.fit(X_train_arstmade, y_train_arstmade)\n",
    "best_SVC_arstmade = SVC_arstmade.best_estimator_.fit(X_train_arstmade, y_train_arstmade)\n",
    "yhat_SVC_arstmade = hp.reporte_metricas(best_SVC_arstmade, X_test_arstmade, y_test_arstmade, 'Métricas con Logistic Regression de Arstmade')\n",
    "confusion_matrix(y_test_arstmade, yhat_SVC_arstmade)"
   ]
  },
  {
   "cell_type": "code",
   "execution_count": 185,
   "metadata": {},
   "outputs": [],
   "source": [
    "accuracy_SVC_arstmade, precision_SVC_arstmade, recall_SVC_arstmade = hp.get_metrics(y_test_arstmade, yhat_SVC_arstmade)"
   ]
  },
  {
   "cell_type": "markdown",
   "metadata": {},
   "source": [
    "***Decision Tree Classifier 'Arstmade'***"
   ]
  },
  {
   "cell_type": "code",
   "execution_count": 223,
   "metadata": {},
   "outputs": [
    {
     "name": "stdout",
     "output_type": "stream",
     "text": [
      "Métricas con Logistic Regression de Arstmade: \n",
      "\n",
      "              precision    recall  f1-score   support\n",
      "\n",
      "           0       0.97      0.99      0.98      4438\n",
      "           1       0.82      0.49      0.62       309\n",
      "\n",
      "    accuracy                           0.96      4747\n",
      "   macro avg       0.89      0.74      0.80      4747\n",
      "weighted avg       0.96      0.96      0.96      4747\n",
      "\n"
     ]
    },
    {
     "data": {
      "text/plain": [
       "array([[4405,   33],\n",
       "       [ 157,  152]], dtype=int64)"
      ]
     },
     "execution_count": 223,
     "metadata": {},
     "output_type": "execute_result"
    }
   ],
   "source": [
    "DecTree_arstmade = GridSearchCV(estimator = DecisionTreeClassifier(),\n",
    "                          param_grid = grid_params_DecTree,\n",
    "                          scoring = 'precision',\n",
    "                          cv = 3,\n",
    "                          n_jobs = -1)\n",
    "DecTree_arstmade.fit(X_train_arstmade, y_train_arstmade)\n",
    "best_DecTree_arstmade = DecTree_arstmade.best_estimator_.fit(X_train_arstmade, y_train_arstmade)\n",
    "yhat_DecTree_arstmade = hp.reporte_metricas(best_DecTree_arstmade, X_test_arstmade, y_test_arstmade, 'Métricas con Logistic Regression de Arstmade')\n",
    "confusion_matrix(y_test_arstmade, yhat_DecTree_arstmade)"
   ]
  },
  {
   "cell_type": "code",
   "execution_count": 187,
   "metadata": {},
   "outputs": [],
   "source": [
    "accuracy_DecTree_arstmade, precision_DecTree_arstmade, recall_DecTree_arstmade = hp.get_metrics(y_test_arstmade, yhat_DecTree_arstmade)"
   ]
  },
  {
   "cell_type": "markdown",
   "metadata": {},
   "source": [
    "***Random Forest Classifier 'Arstmade'***"
   ]
  },
  {
   "cell_type": "code",
   "execution_count": 188,
   "metadata": {},
   "outputs": [
    {
     "name": "stdout",
     "output_type": "stream",
     "text": [
      "Métricas con Logistic Regression de Arstmade: \n",
      "\n",
      "              precision    recall  f1-score   support\n",
      "\n",
      "           0       0.94      1.00      0.97      4438\n",
      "           1       1.00      0.05      0.09       309\n",
      "\n",
      "    accuracy                           0.94      4747\n",
      "   macro avg       0.97      0.52      0.53      4747\n",
      "weighted avg       0.94      0.94      0.91      4747\n",
      "\n"
     ]
    },
    {
     "data": {
      "text/plain": [
       "array([[4438,    0],\n",
       "       [ 295,   14]], dtype=int64)"
      ]
     },
     "execution_count": 188,
     "metadata": {},
     "output_type": "execute_result"
    }
   ],
   "source": [
    "RF_arstmade = GridSearchCV(estimator = RandomForestClassifier(),\n",
    "                          param_grid = grid_params_RF,\n",
    "                          scoring = 'precision',\n",
    "                           cv = 3,\n",
    "                          n_jobs = -1)\n",
    "RF_arstmade.fit(X_train_arstmade, y_train_arstmade)\n",
    "best_RF_arstmade = RF_arstmade.best_estimator_.fit(X_train_arstmade, y_train_arstmade)\n",
    "yhat_RF_arstmade = hp.reporte_metricas(best_RF_arstmade, X_test_arstmade, y_test_arstmade, 'Métricas con Logistic Regression de Arstmade')\n",
    "confusion_matrix(y_test_arstmade, yhat_RF_arstmade)"
   ]
  },
  {
   "cell_type": "code",
   "execution_count": 189,
   "metadata": {},
   "outputs": [],
   "source": [
    "accuracy_RF_arstmade, precision_RF_arstmade, recall_RF_arstmade = hp.get_metrics(y_test_arstmade, yhat_RF_arstmade)"
   ]
  },
  {
   "cell_type": "markdown",
   "metadata": {},
   "source": [
    "## 4.3.1. Creando DataFrame de Métricas 'Arstmade'"
   ]
  },
  {
   "cell_type": "code",
   "execution_count": 190,
   "metadata": {},
   "outputs": [],
   "source": [
    "names = ['Logistic Regression', 'Gradient Boosting', 'Multinomial Naive Bayes', 'SVC', 'Decision Tree Classifier', 'Random Forest']\n",
    "accuracy_arstmade = [accuracy_LR_arstmade, accuracy_GB_arstmade, accuracy_NB_arstmade, accuracy_SVC_arstmade, accuracy_DecTree_arstmade, accuracy_RF_arstmade]\n",
    "precision_arstmade = [precision_LR_arstmade, precision_GB_arstmade, precision_NB_arstmade, precision_SVC_arstmade, precision_DecTree_arstmade, precision_RF_arstmade]\n",
    "recall_arstmade = [recall_LR_arstmade, recall_GB_arstmade, recall_NB_arstmade, recall_SVC_arstmade, recall_DecTree_arstmade, recall_RF_arstmade]"
   ]
  },
  {
   "cell_type": "code",
   "execution_count": 191,
   "metadata": {},
   "outputs": [],
   "source": [
    "scores_arstmade = pd.DataFrame()"
   ]
  },
  {
   "cell_type": "code",
   "execution_count": 192,
   "metadata": {},
   "outputs": [],
   "source": [
    "scores_arstmade['Algoritmo para arstmade'] = names\n",
    "scores_arstmade['accuracy'] = accuracy_arstmade\n",
    "scores_arstmade['precision_clase_1'] = precision_arstmade\n",
    "scores_arstmade['recall_clase_1'] = recall_arstmade"
   ]
  },
  {
   "cell_type": "code",
   "execution_count": 193,
   "metadata": {},
   "outputs": [
    {
     "data": {
      "image/png": "[encoded data removed]",
      "text/plain": [
       "<Figure size 432x288 with 1 Axes>"
      ]
     },
     "metadata": {
      "needs_background": "light"
     },
     "output_type": "display_data"
    }
   ],
   "source": [
    "plt.plot(scores_arstmade['accuracy'], 'g', label = 'Accuracy');\n",
    "plt.plot(scores_arstmade['precision_clase_1'], 'r', label = 'Precision clase 1');\n",
    "plt.plot(scores_arstmade['recall_clase_1'], 'b', label = 'Recall clase 1');\n",
    "plt.xticks(np.arange(6), scores_arstmade['Algoritmo para arstmade'], rotation = 90);\n",
    "plt.xlabel('Modelos');\n",
    "plt.ylabel('Métrica');\n",
    "plt.title('Métricas Modelado Arstmade')\n",
    "plt.legend();"
   ]
  },
  {
   "cell_type": "code",
   "execution_count": 194,
   "metadata": {},
   "outputs": [
    {
     "data": {
      "text/html": [
       "<style type=\"text/css\">\n",
       "#T_88b99_row0_col1 {\n",
       "  background-color: #7ac77b;\n",
       "  color: #000000;\n",
       "}\n",
       "#T_88b99_row0_col2 {\n",
       "  background-color: #b8e3b2;\n",
       "  color: #000000;\n",
       "}\n",
       "#T_88b99_row0_col3 {\n",
       "  background-color: #a5db9f;\n",
       "  color: #000000;\n",
       "}\n",
       "#T_88b99_row1_col1, #T_88b99_row5_col2 {\n",
       "  background-color: #73c476;\n",
       "  color: #000000;\n",
       "}\n",
       "#T_88b99_row1_col2 {\n",
       "  background-color: #b5e1ae;\n",
       "  color: #000000;\n",
       "}\n",
       "#T_88b99_row1_col3 {\n",
       "  background-color: #a3da9d;\n",
       "  color: #000000;\n",
       "}\n",
       "#T_88b99_row2_col1 {\n",
       "  background-color: #9fd899;\n",
       "  color: #000000;\n",
       "}\n",
       "#T_88b99_row2_col2, #T_88b99_row5_col1, #T_88b99_row5_col3 {\n",
       "  background-color: #f7fcf5;\n",
       "  color: #000000;\n",
       "}\n",
       "#T_88b99_row2_col3 {\n",
       "  background-color: #75c477;\n",
       "  color: #000000;\n",
       "}\n",
       "#T_88b99_row3_col1 {\n",
       "  background-color: #d2edcc;\n",
       "  color: #000000;\n",
       "}\n",
       "#T_88b99_row3_col2 {\n",
       "  background-color: #cbebc5;\n",
       "  color: #000000;\n",
       "}\n",
       "#T_88b99_row3_col3 {\n",
       "  background-color: #daf0d4;\n",
       "  color: #000000;\n",
       "}\n",
       "#T_88b99_row4_col1 {\n",
       "  background-color: #87cd86;\n",
       "  color: #000000;\n",
       "}\n",
       "#T_88b99_row4_col2 {\n",
       "  background-color: #ccebc6;\n",
       "  color: #000000;\n",
       "}\n",
       "#T_88b99_row4_col3 {\n",
       "  background-color: #a4da9e;\n",
       "  color: #000000;\n",
       "}\n",
       "</style>\n",
       "<table id=\"T_88b99_\">\n",
       "  <thead>\n",
       "    <tr>\n",
       "      <th class=\"blank level0\" >&nbsp;</th>\n",
       "      <th class=\"col_heading level0 col0\" >Algoritmo para arstmade</th>\n",
       "      <th class=\"col_heading level0 col1\" >accuracy</th>\n",
       "      <th class=\"col_heading level0 col2\" >precision_clase_1</th>\n",
       "      <th class=\"col_heading level0 col3\" >recall_clase_1</th>\n",
       "    </tr>\n",
       "  </thead>\n",
       "  <tbody>\n",
       "    <tr>\n",
       "      <th id=\"T_88b99_level0_row0\" class=\"row_heading level0 row0\" >0</th>\n",
       "      <td id=\"T_88b99_row0_col0\" class=\"data row0 col0\" >Logistic Regression</td>\n",
       "      <td id=\"T_88b99_row0_col1\" class=\"data row0 col1\" >0.961660</td>\n",
       "      <td id=\"T_88b99_row0_col2\" class=\"data row0 col2\" >0.867052</td>\n",
       "      <td id=\"T_88b99_row0_col3\" class=\"data row0 col3\" >0.485437</td>\n",
       "    </tr>\n",
       "    <tr>\n",
       "      <th id=\"T_88b99_level0_row1\" class=\"row_heading level0 row1\" >1</th>\n",
       "      <td id=\"T_88b99_row1_col0\" class=\"data row1 col0\" >Gradient Boosting</td>\n",
       "      <td id=\"T_88b99_row1_col1\" class=\"data row1 col1\" >0.962503</td>\n",
       "      <td id=\"T_88b99_row1_col2\" class=\"data row1 col2\" >0.874286</td>\n",
       "      <td id=\"T_88b99_row1_col3\" class=\"data row1 col3\" >0.495146</td>\n",
       "    </tr>\n",
       "    <tr>\n",
       "      <th id=\"T_88b99_level0_row2\" class=\"row_heading level0 row2\" >2</th>\n",
       "      <td id=\"T_88b99_row2_col0\" class=\"data row2 col0\" >Multinomial Naive Bayes</td>\n",
       "      <td id=\"T_88b99_row2_col1\" class=\"data row2 col1\" >0.956604</td>\n",
       "      <td id=\"T_88b99_row2_col2\" class=\"data row2 col2\" >0.669967</td>\n",
       "      <td id=\"T_88b99_row2_col3\" class=\"data row2 col3\" >0.656958</td>\n",
       "    </tr>\n",
       "    <tr>\n",
       "      <th id=\"T_88b99_level0_row3\" class=\"row_heading level0 row3\" >3</th>\n",
       "      <td id=\"T_88b99_row3_col0\" class=\"data row3 col0\" >SVC</td>\n",
       "      <td id=\"T_88b99_row3_col1\" class=\"data row3 col1\" >0.947967</td>\n",
       "      <td id=\"T_88b99_row3_col2\" class=\"data row3 col2\" >0.822917</td>\n",
       "      <td id=\"T_88b99_row3_col3\" class=\"data row3 col3\" >0.255663</td>\n",
       "    </tr>\n",
       "    <tr>\n",
       "      <th id=\"T_88b99_level0_row4\" class=\"row_heading level0 row4\" >4</th>\n",
       "      <td id=\"T_88b99_row4_col0\" class=\"data row4 col0\" >Decision Tree Classifier</td>\n",
       "      <td id=\"T_88b99_row4_col1\" class=\"data row4 col1\" >0.959975</td>\n",
       "      <td id=\"T_88b99_row4_col2\" class=\"data row4 col2\" >0.821622</td>\n",
       "      <td id=\"T_88b99_row4_col3\" class=\"data row4 col3\" >0.491909</td>\n",
       "    </tr>\n",
       "    <tr>\n",
       "      <th id=\"T_88b99_level0_row5\" class=\"row_heading level0 row5\" >5</th>\n",
       "      <td id=\"T_88b99_row5_col0\" class=\"data row5 col0\" >Random Forest</td>\n",
       "      <td id=\"T_88b99_row5_col1\" class=\"data row5 col1\" >0.937855</td>\n",
       "      <td id=\"T_88b99_row5_col2\" class=\"data row5 col2\" >1.000000</td>\n",
       "      <td id=\"T_88b99_row5_col3\" class=\"data row5 col3\" >0.045307</td>\n",
       "    </tr>\n",
       "  </tbody>\n",
       "</table>\n"
      ],
      "text/plain": [
       "<pandas.io.formats.style.Styler at 0x2b24c872460>"
      ]
     },
     "execution_count": 194,
     "metadata": {},
     "output_type": "execute_result"
    }
   ],
   "source": [
    "scores_arstmade.style.background_gradient(cmap = 'Greens', low = 0, high = 1)"
   ]
  },
  {
   "cell_type": "markdown",
   "metadata": {},
   "source": [
    "***Conclusiones Modelado 'Arstmade'***\n",
    "\n",
    "En cuanto al **accuracy** de los modelos, es muy similar en todos, entre 0.94 y 0.96, por lo que no nos dice mucho acerca del comportamiento, en donde tenemos que tener especial cuidado es en la **precision**, ya que el **costo de un Falso Positivo es alto**, y con esto nos referimos a que arrestar a una persona que no cometió un delito es algo **muy grave**.\n",
    "\n",
    "Una vez aclarado lo de la precision, los dos mejores modelos son:\n",
    "* **Logistic Regression**\n",
    "* **Gradient Boosting**\n",
    "\n",
    "Estos modelos son los que logran capturar de mejor manera los Verdaderos Positivos, sin bajar tanto el **recall**.\n",
    "\n",
    "Por otra parte el modelo que mejor precision tiene, es Random Forest, pero tiene practicamente 0 de recall, lo cual lo hace muy desequilibrado.\n",
    "\n",
    "Las métricas en detalle serán mostradas a continuación.\n"
   ]
  },
  {
   "cell_type": "code",
   "execution_count": 195,
   "metadata": {},
   "outputs": [
    {
     "data": {
      "text/html": [
       "<div>\n",
       "<style scoped>\n",
       "    .dataframe tbody tr th:only-of-type {\n",
       "        vertical-align: middle;\n",
       "    }\n",
       "\n",
       "    .dataframe tbody tr th {\n",
       "        vertical-align: top;\n",
       "    }\n",
       "\n",
       "    .dataframe thead th {\n",
       "        text-align: right;\n",
       "    }\n",
       "</style>\n",
       "<table border=\"1\" class=\"dataframe\">\n",
       "  <thead>\n",
       "    <tr style=\"text-align: right;\">\n",
       "      <th></th>\n",
       "      <th>Algoritmo para arstmade</th>\n",
       "      <th>accuracy</th>\n",
       "      <th>precision_clase_1</th>\n",
       "      <th>recall_clase_1</th>\n",
       "    </tr>\n",
       "  </thead>\n",
       "  <tbody>\n",
       "    <tr>\n",
       "      <th>0</th>\n",
       "      <td>Logistic Regression</td>\n",
       "      <td>0.961660</td>\n",
       "      <td>0.867052</td>\n",
       "      <td>0.485437</td>\n",
       "    </tr>\n",
       "    <tr>\n",
       "      <th>1</th>\n",
       "      <td>Gradient Boosting</td>\n",
       "      <td>0.962503</td>\n",
       "      <td>0.874286</td>\n",
       "      <td>0.495146</td>\n",
       "    </tr>\n",
       "  </tbody>\n",
       "</table>\n",
       "</div>"
      ],
      "text/plain": [
       "  Algoritmo para arstmade  accuracy  precision_clase_1  recall_clase_1\n",
       "0     Logistic Regression  0.961660           0.867052        0.485437\n",
       "1       Gradient Boosting  0.962503           0.874286        0.495146"
      ]
     },
     "execution_count": 195,
     "metadata": {},
     "output_type": "execute_result"
    }
   ],
   "source": [
    "scores_arstmade.iloc[:2,:]"
   ]
  },
  {
   "cell_type": "code",
   "execution_count": 196,
   "metadata": {},
   "outputs": [
    {
     "name": "stdout",
     "output_type": "stream",
     "text": [
      " Logistic Regression Classification Report ARSTMADE\n",
      "\n",
      "              precision    recall  f1-score   support\n",
      "\n",
      "           0       0.97      0.99      0.98      4438\n",
      "           1       0.87      0.49      0.62       309\n",
      "\n",
      "    accuracy                           0.96      4747\n",
      "   macro avg       0.92      0.74      0.80      4747\n",
      "weighted avg       0.96      0.96      0.96      4747\n",
      "\n"
     ]
    }
   ],
   "source": [
    "print(' Logistic Regression Classification Report ARSTMADE\\n' )\n",
    "print(classification_report(y_test_arstmade, yhat_LR_arstmade))"
   ]
  },
  {
   "cell_type": "code",
   "execution_count": 197,
   "metadata": {},
   "outputs": [
    {
     "name": "stderr",
     "output_type": "stream",
     "text": [
      "c:\\Users\\gabo_\\Desktop\\portafolio\\prueba2\\venv\\lib\\site-packages\\sklearn\\utils\\deprecation.py:87: FutureWarning: Function plot_confusion_matrix is deprecated; Function `plot_confusion_matrix` is deprecated in 1.0 and will be removed in 1.2. Use one of the class methods: ConfusionMatrixDisplay.from_predictions or ConfusionMatrixDisplay.from_estimator.\n",
      "  warnings.warn(msg, category=FutureWarning)\n"
     ]
    },
    {
     "data": {
      "image/png": "[encoded data removed]",
      "text/plain": [
       "<Figure size 432x288 with 2 Axes>"
      ]
     },
     "metadata": {
      "needs_background": "light"
     },
     "output_type": "display_data"
    }
   ],
   "source": [
    "plot_confusion_matrix(best_LR_arstmade, X_test_arstmade, y_test_arstmade, cmap = 'Greens');"
   ]
  },
  {
   "cell_type": "code",
   "execution_count": 198,
   "metadata": {},
   "outputs": [
    {
     "name": "stdout",
     "output_type": "stream",
     "text": [
      "Gradient Boosting Classification Report ARSTMADE\n",
      "\n",
      "              precision    recall  f1-score   support\n",
      "\n",
      "           0       0.97      1.00      0.98      4438\n",
      "           1       0.87      0.50      0.63       309\n",
      "\n",
      "    accuracy                           0.96      4747\n",
      "   macro avg       0.92      0.75      0.81      4747\n",
      "weighted avg       0.96      0.96      0.96      4747\n",
      "\n"
     ]
    }
   ],
   "source": [
    "print(\"Gradient Boosting Classification Report ARSTMADE\\n\")\n",
    "print(classification_report(y_test_arstmade, yhat_GB_arstmade))"
   ]
  },
  {
   "cell_type": "code",
   "execution_count": 199,
   "metadata": {},
   "outputs": [
    {
     "name": "stderr",
     "output_type": "stream",
     "text": [
      "c:\\Users\\gabo_\\Desktop\\portafolio\\prueba2\\venv\\lib\\site-packages\\sklearn\\utils\\deprecation.py:87: FutureWarning: Function plot_confusion_matrix is deprecated; Function `plot_confusion_matrix` is deprecated in 1.0 and will be removed in 1.2. Use one of the class methods: ConfusionMatrixDisplay.from_predictions or ConfusionMatrixDisplay.from_estimator.\n",
      "  warnings.warn(msg, category=FutureWarning)\n"
     ]
    },
    {
     "data": {
      "image/png": "[encoded data removed]",
      "text/plain": [
       "<Figure size 432x288 with 2 Axes>"
      ]
     },
     "metadata": {
      "needs_background": "light"
     },
     "output_type": "display_data"
    }
   ],
   "source": [
    "plot_confusion_matrix(best_GB_arstmade, X_test_arstmade, y_test_arstmade, cmap = \"Greens\");"
   ]
  },
  {
   "cell_type": "markdown",
   "metadata": {},
   "source": [
    "Guardaremos los dos mejores modelos de clasificación 'Arstmade' en archivos Pickle, para preservarlos."
   ]
  },
  {
   "cell_type": "code",
   "execution_count": 200,
   "metadata": {},
   "outputs": [],
   "source": [
    "pickle.dump(best_LR_arstmade, open(\"model_LR_arstmade_gabo.sav\", \"wb\"))\n",
    "pickle.dump(best_GB_arstmade, open(\"model_GB_arstmade_gabo.sav\", \"wb\"))"
   ]
  },
  {
   "cell_type": "markdown",
   "metadata": {},
   "source": [
    "## 4.4. Modelado de la predicción del evento 'violent_arrest' (arresto violento)"
   ]
  },
  {
   "cell_type": "markdown",
   "metadata": {},
   "source": [
    "***Logistic Regression'violen_arrest'***"
   ]
  },
  {
   "cell_type": "code",
   "execution_count": 201,
   "metadata": {},
   "outputs": [
    {
     "name": "stdout",
     "output_type": "stream",
     "text": [
      "Métricas con Logistic Regression de Violent Arrest: \n",
      "\n",
      "              precision    recall  f1-score   support\n",
      "\n",
      "           0       0.78      0.98      0.87      3639\n",
      "           1       0.58      0.11      0.18      1108\n",
      "\n",
      "    accuracy                           0.77      4747\n",
      "   macro avg       0.68      0.54      0.53      4747\n",
      "weighted avg       0.74      0.77      0.71      4747\n",
      "\n"
     ]
    },
    {
     "data": {
      "text/plain": [
       "array([[3552,   87],\n",
       "       [ 988,  120]], dtype=int64)"
      ]
     },
     "execution_count": 201,
     "metadata": {},
     "output_type": "execute_result"
    }
   ],
   "source": [
    "LR_violent = GridSearchCV(estimator = LogisticRegression(),\n",
    "                          param_grid = grid_params_LR,\n",
    "                          scoring = \"precision\",\n",
    "                          cv = 10,\n",
    "                          n_jobs = -1)\n",
    "LR_violent.fit(X_train_violent, y_train_violent)\n",
    "best_LR_violent = LR_violent.best_estimator_.fit(X_train_violent, y_train_violent)\n",
    "yhat_LR_violent = hp.reporte_metricas(best_LR_violent, X_test_violent, y_test_violent, \"Métricas con Logistic Regression de Violent Arrest\")\n",
    "confusion_matrix(y_test_violent, yhat_LR_violent)"
   ]
  },
  {
   "cell_type": "code",
   "execution_count": 202,
   "metadata": {},
   "outputs": [],
   "source": [
    "accuracy_LR_violent, precision_LR_violent, recall_LR_violent = hp.get_metrics(y_test_violent, yhat_LR_violent)"
   ]
  },
  {
   "cell_type": "markdown",
   "metadata": {},
   "source": [
    "***Gradient Boosting 'violent_arrest'***"
   ]
  },
  {
   "cell_type": "code",
   "execution_count": 203,
   "metadata": {},
   "outputs": [
    {
     "name": "stdout",
     "output_type": "stream",
     "text": [
      "Métricas con Multinomial Gradient Boosting Classifier de Violent Arrest: \n",
      "\n",
      "              precision    recall  f1-score   support\n",
      "\n",
      "           0       0.77      1.00      0.87      3639\n",
      "           1       1.00      0.00      0.00      1108\n",
      "\n",
      "    accuracy                           0.77      4747\n",
      "   macro avg       0.88      0.50      0.43      4747\n",
      "weighted avg       0.82      0.77      0.67      4747\n",
      "\n"
     ]
    },
    {
     "data": {
      "text/plain": [
       "array([[3639,    0],\n",
       "       [1107,    1]], dtype=int64)"
      ]
     },
     "execution_count": 203,
     "metadata": {},
     "output_type": "execute_result"
    }
   ],
   "source": [
    "GB_violent = GridSearchCV(estimator = GradientBoostingClassifier(),\n",
    "                          param_grid = grid_params_GB,\n",
    "                          scoring = \"precision\",\n",
    "                          cv = 3,\n",
    "                          n_jobs = -1)\n",
    "GB_violent.fit(X_train_violent, y_train_violent)\n",
    "best_GB_violent = GB_violent.best_estimator_.fit(X_train_violent, y_train_violent)\n",
    "yhat_GB_violent = hp.reporte_metricas(best_GB_violent, X_test_violent, y_test_violent, \"Métricas con Multinomial Gradient Boosting Classifier de Violent Arrest\")\n",
    "confusion_matrix(y_test_violent, yhat_GB_violent)"
   ]
  },
  {
   "cell_type": "code",
   "execution_count": 204,
   "metadata": {},
   "outputs": [],
   "source": [
    "accuracy_GB_violent, precision_GB_violent, recall_GB_violent = hp.get_metrics(y_test_violent, yhat_GB_violent)"
   ]
  },
  {
   "cell_type": "markdown",
   "metadata": {},
   "source": [
    "***Multinomial Naive Bayes 'violent_arrest'***"
   ]
  },
  {
   "cell_type": "code",
   "execution_count": 205,
   "metadata": {},
   "outputs": [
    {
     "name": "stdout",
     "output_type": "stream",
     "text": [
      "Métricas con Multinomial Naive Bayes de Violent Arrest: \n",
      "\n",
      "              precision    recall  f1-score   support\n",
      "\n",
      "           0       0.84      0.83      0.84      3639\n",
      "           1       0.47      0.49      0.48      1108\n",
      "\n",
      "    accuracy                           0.75      4747\n",
      "   macro avg       0.66      0.66      0.66      4747\n",
      "weighted avg       0.76      0.75      0.75      4747\n",
      "\n"
     ]
    },
    {
     "data": {
      "text/plain": [
       "array([[3029,  610],\n",
       "       [ 565,  543]], dtype=int64)"
      ]
     },
     "execution_count": 205,
     "metadata": {},
     "output_type": "execute_result"
    }
   ],
   "source": [
    "NB_violent = GridSearchCV(estimator = MultinomialNB(),\n",
    "                          param_grid = grid_params_NB,\n",
    "                          scoring = \"precision\",\n",
    "                          cv = 10,\n",
    "                          n_jobs = -1)\n",
    "NB_violent.fit(X_train_violent, y_train_violent)\n",
    "best_NB_violent = NB_violent.best_estimator_.fit(X_train_violent, y_train_violent)\n",
    "yhat_NB_violent = hp.reporte_metricas(best_NB_violent, X_test_violent, y_test_violent, \"Métricas con Multinomial Naive Bayes de Violent Arrest\")\n",
    "confusion_matrix(y_test_violent, yhat_NB_violent)"
   ]
  },
  {
   "cell_type": "code",
   "execution_count": 206,
   "metadata": {},
   "outputs": [],
   "source": [
    "accuracy_NB_violent, precision_NB_violent, recall_NB_violent = hp.get_metrics(y_test_violent, yhat_NB_violent)"
   ]
  },
  {
   "cell_type": "markdown",
   "metadata": {},
   "source": [
    "***Support Vector Classifier 'violent_arrest'***"
   ]
  },
  {
   "cell_type": "code",
   "execution_count": 207,
   "metadata": {},
   "outputs": [
    {
     "name": "stdout",
     "output_type": "stream",
     "text": [
      "Métricas con Logistic Regression de Violent Arrest: \n",
      "\n",
      "              precision    recall  f1-score   support\n",
      "\n",
      "           0       0.78      0.97      0.87      3639\n",
      "           1       0.54      0.10      0.18      1108\n",
      "\n",
      "    accuracy                           0.77      4747\n",
      "   macro avg       0.66      0.54      0.52      4747\n",
      "weighted avg       0.72      0.77      0.71      4747\n",
      "\n"
     ]
    },
    {
     "data": {
      "text/plain": [
       "array([[3539,  100],\n",
       "       [ 992,  116]], dtype=int64)"
      ]
     },
     "execution_count": 207,
     "metadata": {},
     "output_type": "execute_result"
    }
   ],
   "source": [
    "SVC_violent = GridSearchCV(estimator = SVC(),\n",
    "                          param_grid = grid_params_SVC,\n",
    "                          scoring = \"precision\",\n",
    "                          cv = 3,\n",
    "                          n_jobs = -1)\n",
    "SVC_violent.fit(X_train_violent, y_train_violent)\n",
    "best_SVC_violent = SVC_violent.best_estimator_.fit(X_train_violent, y_train_violent)\n",
    "yhat_SVC_violent = hp.reporte_metricas(best_SVC_violent, X_test_violent, y_test_violent, \"Métricas con Logistic Regression de Violent Arrest\")\n",
    "confusion_matrix(y_test_violent, yhat_SVC_violent)"
   ]
  },
  {
   "cell_type": "code",
   "execution_count": 208,
   "metadata": {},
   "outputs": [],
   "source": [
    "accuracy_SVC_violent, precision_SVC_violent, recall_SVC_violent = hp.get_metrics(y_test_violent, yhat_SVC_violent)"
   ]
  },
  {
   "cell_type": "markdown",
   "metadata": {},
   "source": [
    "***Decision Tree Classifier 'violent_arrest'***"
   ]
  },
  {
   "cell_type": "code",
   "execution_count": 209,
   "metadata": {},
   "outputs": [
    {
     "name": "stdout",
     "output_type": "stream",
     "text": [
      "Métricas con Logistic Regression de Violent Arrest: \n",
      "\n",
      "              precision    recall  f1-score   support\n",
      "\n",
      "           0       0.78      0.99      0.87      3639\n",
      "           1       0.64      0.07      0.13      1108\n",
      "\n",
      "    accuracy                           0.77      4747\n",
      "   macro avg       0.71      0.53      0.50      4747\n",
      "weighted avg       0.74      0.77      0.70      4747\n",
      "\n"
     ]
    },
    {
     "data": {
      "text/plain": [
       "array([[3592,   47],\n",
       "       [1026,   82]], dtype=int64)"
      ]
     },
     "execution_count": 209,
     "metadata": {},
     "output_type": "execute_result"
    }
   ],
   "source": [
    "DecTree_violent = GridSearchCV(estimator = DecisionTreeClassifier(),\n",
    "                          param_grid = grid_params_DecTree,\n",
    "                          scoring = \"precision\",\n",
    "                          cv = 3,\n",
    "                          n_jobs = -1)\n",
    "DecTree_violent.fit(X_train_violent, y_train_violent)\n",
    "best_DecTree_violent = DecTree_violent.best_estimator_.fit(X_train_violent, y_train_violent)\n",
    "yhat_DecTree_violent = hp.reporte_metricas(best_DecTree_violent, X_test_violent, y_test_violent, \"Métricas con Logistic Regression de Violent Arrest\")\n",
    "confusion_matrix(y_test_violent, yhat_DecTree_violent)"
   ]
  },
  {
   "cell_type": "code",
   "execution_count": 210,
   "metadata": {},
   "outputs": [],
   "source": [
    "accuracy_DecTree_violent, precision_DecTree_violent, recall_DecTree_violent = hp.get_metrics(y_test_violent, yhat_DecTree_violent)"
   ]
  },
  {
   "cell_type": "markdown",
   "metadata": {},
   "source": [
    "***Random Forest Classifier 'violent_arrest'***"
   ]
  },
  {
   "cell_type": "code",
   "execution_count": 211,
   "metadata": {},
   "outputs": [
    {
     "name": "stdout",
     "output_type": "stream",
     "text": [
      "Métricas con Logistic Regression de Violent Arrest: \n",
      "\n",
      "              precision    recall  f1-score   support\n",
      "\n",
      "           0       0.77      1.00      0.87      3639\n",
      "           1       0.50      0.00      0.00      1108\n",
      "\n",
      "    accuracy                           0.77      4747\n",
      "   macro avg       0.63      0.50      0.43      4747\n",
      "weighted avg       0.70      0.77      0.67      4747\n",
      "\n"
     ]
    },
    {
     "data": {
      "text/plain": [
       "array([[3638,    1],\n",
       "       [1107,    1]], dtype=int64)"
      ]
     },
     "execution_count": 211,
     "metadata": {},
     "output_type": "execute_result"
    }
   ],
   "source": [
    "RF_violent = GridSearchCV(estimator = RandomForestClassifier(),\n",
    "                          param_grid = grid_params_RF,\n",
    "                          scoring = \"precision\",\n",
    "                          cv = 3,\n",
    "                          n_jobs = -1)\n",
    "RF_violent.fit(X_train_violent, y_train_violent)\n",
    "best_RF_violent = RF_violent.best_estimator_.fit(X_train_violent, y_train_violent)\n",
    "yhat_RF_violent = hp.reporte_metricas(best_RF_violent, X_test_violent, y_test_violent, \"Métricas con Logistic Regression de Violent Arrest\")\n",
    "confusion_matrix(y_test_violent, yhat_RF_violent)"
   ]
  },
  {
   "cell_type": "code",
   "execution_count": 212,
   "metadata": {},
   "outputs": [],
   "source": [
    "accuracy_RF_violent, precision_RF_violent, recall_RF_violent = hp.get_metrics(y_test_violent, yhat_RF_violent)"
   ]
  },
  {
   "cell_type": "markdown",
   "metadata": {},
   "source": [
    "## 4.4.1. Creando DataFrame de Métricas 'violent_arrest'"
   ]
  },
  {
   "cell_type": "code",
   "execution_count": 213,
   "metadata": {},
   "outputs": [],
   "source": [
    "accuracy_violent = [accuracy_LR_violent, accuracy_GB_violent, accuracy_NB_violent, accuracy_SVC_violent, accuracy_DecTree_violent, accuracy_RF_violent]\n",
    "precision_violent = [precision_LR_violent, precision_GB_violent, precision_NB_violent, precision_SVC_violent, precision_DecTree_violent, precision_RF_violent]\n",
    "recall_violent = [recall_LR_violent, recall_GB_violent, recall_NB_violent, recall_SVC_violent, recall_DecTree_violent, recall_RF_violent]"
   ]
  },
  {
   "cell_type": "code",
   "execution_count": 214,
   "metadata": {},
   "outputs": [],
   "source": [
    "scores_violent = pd.DataFrame()\n",
    "scores_violent[\"Algoritmo para Violent Arrest\"] = names\n",
    "scores_violent[\"accuracy\"] = accuracy_violent\n",
    "scores_violent[\"precision_clase_1\"] = precision_violent\n",
    "scores_violent[\"recall_clase_1\"] = recall_violent"
   ]
  },
  {
   "cell_type": "code",
   "execution_count": 215,
   "metadata": {},
   "outputs": [
    {
     "data": {
      "image/png": "[encoded data removed]",
      "text/plain": [
       "<Figure size 432x288 with 1 Axes>"
      ]
     },
     "metadata": {
      "needs_background": "light"
     },
     "output_type": "display_data"
    }
   ],
   "source": [
    "plt.plot(scores_violent[\"accuracy\"], \"g\", label = \"Accuracy\");\n",
    "plt.plot(scores_violent[\"precision_clase_1\"], \"r\", label = \"Precision clase 1\");\n",
    "plt.plot(scores_violent[\"recall_clase_1\"], \"b\", label = \"Recall clase 1\");\n",
    "plt.xticks(np.arange(6), scores_violent[\"Algoritmo para Violent Arrest\"], rotation = 90);\n",
    "plt.xlabel(\"Modelos\");\n",
    "plt.ylabel(\"Métrica\");\n",
    "plt.title(\"Métricas Modelado Violent Arrest\")\n",
    "plt.legend();"
   ]
  },
  {
   "cell_type": "code",
   "execution_count": 216,
   "metadata": {},
   "outputs": [
    {
     "data": {
      "text/html": [
       "<style type=\"text/css\">\n",
       "#T_41250_row0_col1 {\n",
       "  background-color: #78c679;\n",
       "  color: #000000;\n",
       "}\n",
       "#T_41250_row0_col2 {\n",
       "  background-color: #e8f6e4;\n",
       "  color: #000000;\n",
       "}\n",
       "#T_41250_row0_col3 {\n",
       "  background-color: #e7f6e3;\n",
       "  color: #000000;\n",
       "}\n",
       "#T_41250_row1_col1 {\n",
       "  background-color: #aedea7;\n",
       "  color: #000000;\n",
       "}\n",
       "#T_41250_row1_col2, #T_41250_row2_col3, #T_41250_row4_col1 {\n",
       "  background-color: #73c476;\n",
       "  color: #000000;\n",
       "}\n",
       "#T_41250_row1_col3, #T_41250_row2_col1, #T_41250_row2_col2, #T_41250_row5_col3 {\n",
       "  background-color: #f7fcf5;\n",
       "  color: #000000;\n",
       "}\n",
       "#T_41250_row3_col1 {\n",
       "  background-color: #95d391;\n",
       "  color: #000000;\n",
       "}\n",
       "#T_41250_row3_col2 {\n",
       "  background-color: #eff9eb;\n",
       "  color: #000000;\n",
       "}\n",
       "#T_41250_row3_col3 {\n",
       "  background-color: #e8f6e3;\n",
       "  color: #000000;\n",
       "}\n",
       "#T_41250_row4_col2 {\n",
       "  background-color: #def2d9;\n",
       "  color: #000000;\n",
       "}\n",
       "#T_41250_row4_col3 {\n",
       "  background-color: #ecf8e8;\n",
       "  color: #000000;\n",
       "}\n",
       "#T_41250_row5_col1 {\n",
       "  background-color: #afdfa8;\n",
       "  color: #000000;\n",
       "}\n",
       "#T_41250_row5_col2 {\n",
       "  background-color: #f3faf0;\n",
       "  color: #000000;\n",
       "}\n",
       "</style>\n",
       "<table id=\"T_41250_\">\n",
       "  <thead>\n",
       "    <tr>\n",
       "      <th class=\"blank level0\" >&nbsp;</th>\n",
       "      <th class=\"col_heading level0 col0\" >Algoritmo para Violent Arrest</th>\n",
       "      <th class=\"col_heading level0 col1\" >accuracy</th>\n",
       "      <th class=\"col_heading level0 col2\" >precision_clase_1</th>\n",
       "      <th class=\"col_heading level0 col3\" >recall_clase_1</th>\n",
       "    </tr>\n",
       "  </thead>\n",
       "  <tbody>\n",
       "    <tr>\n",
       "      <th id=\"T_41250_level0_row0\" class=\"row_heading level0 row0\" >0</th>\n",
       "      <td id=\"T_41250_row0_col0\" class=\"data row0 col0\" >Logistic Regression</td>\n",
       "      <td id=\"T_41250_row0_col1\" class=\"data row0 col1\" >0.773541</td>\n",
       "      <td id=\"T_41250_row0_col2\" class=\"data row0 col2\" >0.579710</td>\n",
       "      <td id=\"T_41250_row0_col3\" class=\"data row0 col3\" >0.108303</td>\n",
       "    </tr>\n",
       "    <tr>\n",
       "      <th id=\"T_41250_level0_row1\" class=\"row_heading level0 row1\" >1</th>\n",
       "      <td id=\"T_41250_row1_col0\" class=\"data row1 col0\" >Gradient Boosting</td>\n",
       "      <td id=\"T_41250_row1_col1\" class=\"data row1 col1\" >0.766800</td>\n",
       "      <td id=\"T_41250_row1_col2\" class=\"data row1 col2\" >1.000000</td>\n",
       "      <td id=\"T_41250_row1_col3\" class=\"data row1 col3\" >0.000903</td>\n",
       "    </tr>\n",
       "    <tr>\n",
       "      <th id=\"T_41250_level0_row2\" class=\"row_heading level0 row2\" >2</th>\n",
       "      <td id=\"T_41250_row2_col0\" class=\"data row2 col0\" >Multinomial Naive Bayes</td>\n",
       "      <td id=\"T_41250_row2_col1\" class=\"data row2 col1\" >0.752475</td>\n",
       "      <td id=\"T_41250_row2_col2\" class=\"data row2 col2\" >0.470945</td>\n",
       "      <td id=\"T_41250_row2_col3\" class=\"data row2 col3\" >0.490072</td>\n",
       "    </tr>\n",
       "    <tr>\n",
       "      <th id=\"T_41250_level0_row3\" class=\"row_heading level0 row3\" >3</th>\n",
       "      <td id=\"T_41250_row3_col0\" class=\"data row3 col0\" >SVC</td>\n",
       "      <td id=\"T_41250_row3_col1\" class=\"data row3 col1\" >0.769960</td>\n",
       "      <td id=\"T_41250_row3_col2\" class=\"data row3 col2\" >0.537037</td>\n",
       "      <td id=\"T_41250_row3_col3\" class=\"data row3 col3\" >0.104693</td>\n",
       "    </tr>\n",
       "    <tr>\n",
       "      <th id=\"T_41250_level0_row4\" class=\"row_heading level0 row4\" >4</th>\n",
       "      <td id=\"T_41250_row4_col0\" class=\"data row4 col0\" >Decision Tree Classifier</td>\n",
       "      <td id=\"T_41250_row4_col1\" class=\"data row4 col1\" >0.773963</td>\n",
       "      <td id=\"T_41250_row4_col2\" class=\"data row4 col2\" >0.635659</td>\n",
       "      <td id=\"T_41250_row4_col3\" class=\"data row4 col3\" >0.074007</td>\n",
       "    </tr>\n",
       "    <tr>\n",
       "      <th id=\"T_41250_level0_row5\" class=\"row_heading level0 row5\" >5</th>\n",
       "      <td id=\"T_41250_row5_col0\" class=\"data row5 col0\" >Random Forest</td>\n",
       "      <td id=\"T_41250_row5_col1\" class=\"data row5 col1\" >0.766589</td>\n",
       "      <td id=\"T_41250_row5_col2\" class=\"data row5 col2\" >0.500000</td>\n",
       "      <td id=\"T_41250_row5_col3\" class=\"data row5 col3\" >0.000903</td>\n",
       "    </tr>\n",
       "  </tbody>\n",
       "</table>\n"
      ],
      "text/plain": [
       "<pandas.io.formats.style.Styler at 0x2b244e6c9d0>"
      ]
     },
     "execution_count": 216,
     "metadata": {},
     "output_type": "execute_result"
    }
   ],
   "source": [
    "scores_violent.style.background_gradient(cmap = \"Greens\", low = 0, high = 1)"
   ]
  },
  {
   "cell_type": "markdown",
   "metadata": {},
   "source": [
    "***Conclusiones Modelado 'violet_arrest'***\n",
    "\n",
    "A nivel de accuracy están todos situados en los mismos niveles, entre 0.75 y 0.77, por lo que no nos sirve para decidir que modelo es mejor.\n",
    "\n",
    "Pasando ahora a **precision y recall**, son resultados deficientes, en su mayoría por debajo de 0.5, por lo que no podemos obtener resultados consistentes, aun asi, si tenemos que escoger los 2 mejores, estos serían:\n",
    "* **Multinomial Naive Bayes**\n",
    "* **Logistic Regression**\n",
    "\n",
    "Siendo Multinomial Naive Bayes el mejor, que a pesar de tener el accuracy más bajo (0.75), tiene un equilibrio entre **precision (0.47) y recall (0.49)**.\n",
    "\n",
    "Sus métricas en detalle están a continuación."
   ]
  },
  {
   "cell_type": "code",
   "execution_count": 217,
   "metadata": {},
   "outputs": [
    {
     "data": {
      "text/html": [
       "<div>\n",
       "<style scoped>\n",
       "    .dataframe tbody tr th:only-of-type {\n",
       "        vertical-align: middle;\n",
       "    }\n",
       "\n",
       "    .dataframe tbody tr th {\n",
       "        vertical-align: top;\n",
       "    }\n",
       "\n",
       "    .dataframe thead th {\n",
       "        text-align: right;\n",
       "    }\n",
       "</style>\n",
       "<table border=\"1\" class=\"dataframe\">\n",
       "  <thead>\n",
       "    <tr style=\"text-align: right;\">\n",
       "      <th></th>\n",
       "      <th>Algoritmo para Violent Arrest</th>\n",
       "      <th>accuracy</th>\n",
       "      <th>precision_clase_1</th>\n",
       "      <th>recall_clase_1</th>\n",
       "    </tr>\n",
       "  </thead>\n",
       "  <tbody>\n",
       "    <tr>\n",
       "      <th>2</th>\n",
       "      <td>Multinomial Naive Bayes</td>\n",
       "      <td>0.752475</td>\n",
       "      <td>0.470945</td>\n",
       "      <td>0.490072</td>\n",
       "    </tr>\n",
       "    <tr>\n",
       "      <th>0</th>\n",
       "      <td>Logistic Regression</td>\n",
       "      <td>0.773541</td>\n",
       "      <td>0.579710</td>\n",
       "      <td>0.108303</td>\n",
       "    </tr>\n",
       "  </tbody>\n",
       "</table>\n",
       "</div>"
      ],
      "text/plain": [
       "  Algoritmo para Violent Arrest  accuracy  precision_clase_1  recall_clase_1\n",
       "2       Multinomial Naive Bayes  0.752475           0.470945        0.490072\n",
       "0           Logistic Regression  0.773541           0.579710        0.108303"
      ]
     },
     "execution_count": 217,
     "metadata": {},
     "output_type": "execute_result"
    }
   ],
   "source": [
    "scores_violent.iloc[[2,0] ,:]"
   ]
  },
  {
   "cell_type": "code",
   "execution_count": 218,
   "metadata": {},
   "outputs": [
    {
     "name": "stdout",
     "output_type": "stream",
     "text": [
      "Multinomial Naive Bayes Classification Report Violent Arrest\n",
      "\n",
      "              precision    recall  f1-score   support\n",
      "\n",
      "           0       0.84      0.83      0.84      3639\n",
      "           1       0.47      0.49      0.48      1108\n",
      "\n",
      "    accuracy                           0.75      4747\n",
      "   macro avg       0.66      0.66      0.66      4747\n",
      "weighted avg       0.76      0.75      0.75      4747\n",
      "\n"
     ]
    }
   ],
   "source": [
    "print(\"Multinomial Naive Bayes Classification Report Violent Arrest\\n\")\n",
    "print(classification_report(y_test_violent, yhat_NB_violent))"
   ]
  },
  {
   "cell_type": "code",
   "execution_count": 219,
   "metadata": {},
   "outputs": [
    {
     "name": "stderr",
     "output_type": "stream",
     "text": [
      "c:\\Users\\gabo_\\Desktop\\portafolio\\prueba2\\venv\\lib\\site-packages\\sklearn\\utils\\deprecation.py:87: FutureWarning: Function plot_confusion_matrix is deprecated; Function `plot_confusion_matrix` is deprecated in 1.0 and will be removed in 1.2. Use one of the class methods: ConfusionMatrixDisplay.from_predictions or ConfusionMatrixDisplay.from_estimator.\n",
      "  warnings.warn(msg, category=FutureWarning)\n"
     ]
    },
    {
     "data": {
      "image/png": "[encoded data removed]",
      "text/plain": [
       "<Figure size 432x288 with 2 Axes>"
      ]
     },
     "metadata": {
      "needs_background": "light"
     },
     "output_type": "display_data"
    }
   ],
   "source": [
    "plot_confusion_matrix(best_NB_violent, X_test_violent, y_test_violent, cmap = \"Greens\");"
   ]
  },
  {
   "cell_type": "code",
   "execution_count": 220,
   "metadata": {},
   "outputs": [
    {
     "name": "stdout",
     "output_type": "stream",
     "text": [
      "Logistic Regresion Classification Report Violent Arrest\n",
      "\n",
      "              precision    recall  f1-score   support\n",
      "\n",
      "           0       0.78      0.98      0.87      3639\n",
      "           1       0.58      0.11      0.18      1108\n",
      "\n",
      "    accuracy                           0.77      4747\n",
      "   macro avg       0.68      0.54      0.53      4747\n",
      "weighted avg       0.74      0.77      0.71      4747\n",
      "\n"
     ]
    }
   ],
   "source": [
    "print(\"Logistic Regresion Classification Report Violent Arrest\\n\")\n",
    "print(classification_report(y_test_violent, yhat_LR_violent))"
   ]
  },
  {
   "cell_type": "code",
   "execution_count": 221,
   "metadata": {},
   "outputs": [
    {
     "name": "stderr",
     "output_type": "stream",
     "text": [
      "c:\\Users\\gabo_\\Desktop\\portafolio\\prueba2\\venv\\lib\\site-packages\\sklearn\\utils\\deprecation.py:87: FutureWarning: Function plot_confusion_matrix is deprecated; Function `plot_confusion_matrix` is deprecated in 1.0 and will be removed in 1.2. Use one of the class methods: ConfusionMatrixDisplay.from_predictions or ConfusionMatrixDisplay.from_estimator.\n",
      "  warnings.warn(msg, category=FutureWarning)\n"
     ]
    },
    {
     "data": {
      "image/png": "[encoded data removed]",
      "text/plain": [
       "<Figure size 432x288 with 2 Axes>"
      ]
     },
     "metadata": {
      "needs_background": "light"
     },
     "output_type": "display_data"
    }
   ],
   "source": [
    "plot_confusion_matrix(best_LR_violent, X_test_violent, y_test_violent, cmap = \"Greens\");"
   ]
  },
  {
   "cell_type": "markdown",
   "metadata": {},
   "source": [
    "Guardaremos los dos mejores modelos de clasificación 'violent_arrest' en archivos Pickle, para preservarlos."
   ]
  },
  {
   "cell_type": "code",
   "execution_count": 222,
   "metadata": {},
   "outputs": [],
   "source": [
    "pickle.dump(best_NB_arstmade, open(\"model_NB_violent_arrest_gabo.sav\", \"wb\"))\n",
    "pickle.dump(best_LR_arstmade, open(\"model_LR_violent_arrest_gabo.sav\", \"wb\"))"
   ]
  },
  {
   "cell_type": "markdown",
   "metadata": {},
   "source": [
    "# 5. Comentarios y conclusiones finales"
   ]
  },
  {
   "cell_type": "markdown",
   "metadata": {},
   "source": [
    "Bien es sabido que en EEUU, la policía es racista a la hora de hacer detenciones o detenciones violentas, teniendo casos tan emblemáticos, como el de **George Floyd** el 25 de Marzo del 2020. Sus detenciones violentas son hechas principalmente a personas de raza negra, hispanos y latinos.\n",
    "\n",
    "Es por esto, que este dataset posee estos mismos sesgos, por lo que **tenemos que tomar con pinzas** los resultados obtenidos aquí, recordemos que un algoritmo de machine learning estará sesgado, si la base de datos sobre la cual trabaja lo esta.\n",
    "\n",
    "Por otra parte en cuanto a los datos y la calidad de estos como dijimos en un inicio, el 95.3% de las variables son categóricas, por lo que tal vez no sea el mejor dataset para realizar este tipo de análisis, las métricas obtenidas fueron muy pobres."
   ]
  }
 ],
 "metadata": {
  "interpreter": {
   "hash": "c781e58c1ef1b28700ca0fd93dea39e08f83dbd1f97103a23e33b940274aa066"
  },
  "kernelspec": {
   "display_name": "Python 3.8.8 64-bit ('venv': venv)",
   "name": "python3"
  },
  "language_info": {
   "codemirror_mode": {
    "name": "ipython",
    "version": 3
   },
   "file_extension": ".py",
   "mimetype": "text/x-python",
   "name": "python",
   "nbconvert_exporter": "python",
   "pygments_lexer": "ipython3",
   "version": "3.8.8"
  },
  "orig_nbformat": 4
 },
 "nbformat": 4,
 "nbformat_minor": 2
}
